{
 "cells": [
  {
   "cell_type": "markdown",
   "id": "065f874e",
   "metadata": {},
   "source": [
    "# Biblioteca: Análise Descritiva "
   ]
  },
  {
   "cell_type": "markdown",
   "id": "c75b4b6f",
   "metadata": {},
   "source": [
    "## Parte I: Importando os dados"
   ]
  },
  {
   "cell_type": "code",
   "execution_count": 1,
   "id": "f77034b2",
   "metadata": {},
   "outputs": [
    {
     "name": "stdout",
     "output_type": "stream",
     "text": [
      "Requirement already satisfied: jinja2 in c:\\users\\user\\anaconda3\\lib\\site-packages (3.1.2)\n",
      "Requirement already satisfied: MarkupSafe>=2.0 in c:\\users\\user\\anaconda3\\lib\\site-packages (from jinja2) (2.0.1)\n"
     ]
    }
   ],
   "source": [
    "!pip install --upgrade jinja2"
   ]
  },
  {
   "cell_type": "code",
   "execution_count": 2,
   "id": "3a219aab",
   "metadata": {},
   "outputs": [],
   "source": [
    "import pandas as pd\n",
    "import glob\n",
    "from collections import Counter\n",
    "import seaborn as sns \n",
    "import matplotlib.pyplot as plt"
   ]
  },
  {
   "cell_type": "code",
   "execution_count": 3,
   "id": "fa94517a",
   "metadata": {},
   "outputs": [
    {
     "name": "stderr",
     "output_type": "stream",
     "text": [
      "C:\\Users\\User\\AppData\\Local\\Temp\\ipykernel_16672\\2661347397.py:6: FutureWarning: The frame.append method is deprecated and will be removed from pandas in a future version. Use pandas.concat instead.\n",
      "  emprestimos_biblioteca = emprestimos_biblioteca.append(csv)\n",
      "C:\\Users\\User\\AppData\\Local\\Temp\\ipykernel_16672\\2661347397.py:6: FutureWarning: The frame.append method is deprecated and will be removed from pandas in a future version. Use pandas.concat instead.\n",
      "  emprestimos_biblioteca = emprestimos_biblioteca.append(csv)\n",
      "C:\\Users\\User\\AppData\\Local\\Temp\\ipykernel_16672\\2661347397.py:6: FutureWarning: The frame.append method is deprecated and will be removed from pandas in a future version. Use pandas.concat instead.\n",
      "  emprestimos_biblioteca = emprestimos_biblioteca.append(csv)\n",
      "C:\\Users\\User\\AppData\\Local\\Temp\\ipykernel_16672\\2661347397.py:6: FutureWarning: The frame.append method is deprecated and will be removed from pandas in a future version. Use pandas.concat instead.\n",
      "  emprestimos_biblioteca = emprestimos_biblioteca.append(csv)\n",
      "C:\\Users\\User\\AppData\\Local\\Temp\\ipykernel_16672\\2661347397.py:6: FutureWarning: The frame.append method is deprecated and will be removed from pandas in a future version. Use pandas.concat instead.\n",
      "  emprestimos_biblioteca = emprestimos_biblioteca.append(csv)\n",
      "C:\\Users\\User\\AppData\\Local\\Temp\\ipykernel_16672\\2661347397.py:6: FutureWarning: The frame.append method is deprecated and will be removed from pandas in a future version. Use pandas.concat instead.\n",
      "  emprestimos_biblioteca = emprestimos_biblioteca.append(csv)\n",
      "C:\\Users\\User\\AppData\\Local\\Temp\\ipykernel_16672\\2661347397.py:6: FutureWarning: The frame.append method is deprecated and will be removed from pandas in a future version. Use pandas.concat instead.\n",
      "  emprestimos_biblioteca = emprestimos_biblioteca.append(csv)\n",
      "C:\\Users\\User\\AppData\\Local\\Temp\\ipykernel_16672\\2661347397.py:6: FutureWarning: The frame.append method is deprecated and will be removed from pandas in a future version. Use pandas.concat instead.\n",
      "  emprestimos_biblioteca = emprestimos_biblioteca.append(csv)\n",
      "C:\\Users\\User\\AppData\\Local\\Temp\\ipykernel_16672\\2661347397.py:6: FutureWarning: The frame.append method is deprecated and will be removed from pandas in a future version. Use pandas.concat instead.\n",
      "  emprestimos_biblioteca = emprestimos_biblioteca.append(csv)\n",
      "C:\\Users\\User\\AppData\\Local\\Temp\\ipykernel_16672\\2661347397.py:6: FutureWarning: The frame.append method is deprecated and will be removed from pandas in a future version. Use pandas.concat instead.\n",
      "  emprestimos_biblioteca = emprestimos_biblioteca.append(csv)\n",
      "C:\\Users\\User\\AppData\\Local\\Temp\\ipykernel_16672\\2661347397.py:6: FutureWarning: The frame.append method is deprecated and will be removed from pandas in a future version. Use pandas.concat instead.\n",
      "  emprestimos_biblioteca = emprestimos_biblioteca.append(csv)\n",
      "C:\\Users\\User\\AppData\\Local\\Temp\\ipykernel_16672\\2661347397.py:6: FutureWarning: The frame.append method is deprecated and will be removed from pandas in a future version. Use pandas.concat instead.\n",
      "  emprestimos_biblioteca = emprestimos_biblioteca.append(csv)\n",
      "C:\\Users\\User\\AppData\\Local\\Temp\\ipykernel_16672\\2661347397.py:6: FutureWarning: The frame.append method is deprecated and will be removed from pandas in a future version. Use pandas.concat instead.\n",
      "  emprestimos_biblioteca = emprestimos_biblioteca.append(csv)\n",
      "C:\\Users\\User\\AppData\\Local\\Temp\\ipykernel_16672\\2661347397.py:6: FutureWarning: The frame.append method is deprecated and will be removed from pandas in a future version. Use pandas.concat instead.\n",
      "  emprestimos_biblioteca = emprestimos_biblioteca.append(csv)\n",
      "C:\\Users\\User\\AppData\\Local\\Temp\\ipykernel_16672\\2661347397.py:6: FutureWarning: The frame.append method is deprecated and will be removed from pandas in a future version. Use pandas.concat instead.\n",
      "  emprestimos_biblioteca = emprestimos_biblioteca.append(csv)\n",
      "C:\\Users\\User\\AppData\\Local\\Temp\\ipykernel_16672\\2661347397.py:6: FutureWarning: The frame.append method is deprecated and will be removed from pandas in a future version. Use pandas.concat instead.\n",
      "  emprestimos_biblioteca = emprestimos_biblioteca.append(csv)\n",
      "C:\\Users\\User\\AppData\\Local\\Temp\\ipykernel_16672\\2661347397.py:6: FutureWarning: The frame.append method is deprecated and will be removed from pandas in a future version. Use pandas.concat instead.\n",
      "  emprestimos_biblioteca = emprestimos_biblioteca.append(csv)\n",
      "C:\\Users\\User\\AppData\\Local\\Temp\\ipykernel_16672\\2661347397.py:6: FutureWarning: The frame.append method is deprecated and will be removed from pandas in a future version. Use pandas.concat instead.\n",
      "  emprestimos_biblioteca = emprestimos_biblioteca.append(csv)\n",
      "C:\\Users\\User\\AppData\\Local\\Temp\\ipykernel_16672\\2661347397.py:6: FutureWarning: The frame.append method is deprecated and will be removed from pandas in a future version. Use pandas.concat instead.\n",
      "  emprestimos_biblioteca = emprestimos_biblioteca.append(csv)\n",
      "C:\\Users\\User\\AppData\\Local\\Temp\\ipykernel_16672\\2661347397.py:6: FutureWarning: The frame.append method is deprecated and will be removed from pandas in a future version. Use pandas.concat instead.\n",
      "  emprestimos_biblioteca = emprestimos_biblioteca.append(csv)\n",
      "C:\\Users\\User\\AppData\\Local\\Temp\\ipykernel_16672\\2661347397.py:6: FutureWarning: The frame.append method is deprecated and will be removed from pandas in a future version. Use pandas.concat instead.\n",
      "  emprestimos_biblioteca = emprestimos_biblioteca.append(csv)\n"
     ]
    },
    {
     "data": {
      "text/html": [
       "<div>\n",
       "<style scoped>\n",
       "    .dataframe tbody tr th:only-of-type {\n",
       "        vertical-align: middle;\n",
       "    }\n",
       "\n",
       "    .dataframe tbody tr th {\n",
       "        vertical-align: top;\n",
       "    }\n",
       "\n",
       "    .dataframe thead th {\n",
       "        text-align: right;\n",
       "    }\n",
       "</style>\n",
       "<table border=\"1\" class=\"dataframe\">\n",
       "  <thead>\n",
       "    <tr style=\"text-align: right;\">\n",
       "      <th></th>\n",
       "      <th>id_emprestimo</th>\n",
       "      <th>codigo_barras</th>\n",
       "      <th>data_renovacao</th>\n",
       "      <th>data_emprestimo</th>\n",
       "      <th>data_devolucao</th>\n",
       "      <th>matricula_ou_siape</th>\n",
       "      <th>tipo_vinculo_usuario</th>\n",
       "    </tr>\n",
       "  </thead>\n",
       "  <tbody>\n",
       "    <tr>\n",
       "      <th>0</th>\n",
       "      <td>709684</td>\n",
       "      <td>L095049</td>\n",
       "      <td>NaN</td>\n",
       "      <td>2010/01/04 07:44:10.721000000</td>\n",
       "      <td>2010/01/05 16:26:12.662000000</td>\n",
       "      <td>2.008023e+09</td>\n",
       "      <td>ALUNO DE GRADUAÇÃO</td>\n",
       "    </tr>\n",
       "    <tr>\n",
       "      <th>1</th>\n",
       "      <td>709685</td>\n",
       "      <td>L167050</td>\n",
       "      <td>NaN</td>\n",
       "      <td>2010/01/04 07:44:10.750000000</td>\n",
       "      <td>2010/01/12 07:34:13.934000000</td>\n",
       "      <td>2.008023e+09</td>\n",
       "      <td>ALUNO DE GRADUAÇÃO</td>\n",
       "    </tr>\n",
       "    <tr>\n",
       "      <th>2</th>\n",
       "      <td>709686</td>\n",
       "      <td>2006017618</td>\n",
       "      <td>2010/01/26 08:07:01.738000000</td>\n",
       "      <td>2010/01/04 08:08:44.081000000</td>\n",
       "      <td>2010/02/25 07:36:25.800000000</td>\n",
       "      <td>2.008112e+09</td>\n",
       "      <td>ALUNO DE PÓS-GRADUAÇÃO</td>\n",
       "    </tr>\n",
       "    <tr>\n",
       "      <th>3</th>\n",
       "      <td>709687</td>\n",
       "      <td>L184117</td>\n",
       "      <td>2010/01/18 11:07:46.470000000</td>\n",
       "      <td>2010/01/04 08:24:21.284000000</td>\n",
       "      <td>2010/02/03 08:58:45.692000000</td>\n",
       "      <td>2.007211e+08</td>\n",
       "      <td>ALUNO DE GRADUAÇÃO</td>\n",
       "    </tr>\n",
       "    <tr>\n",
       "      <th>4</th>\n",
       "      <td>709684</td>\n",
       "      <td>L095049</td>\n",
       "      <td>NaN</td>\n",
       "      <td>2010/01/04 07:44:10.721000000</td>\n",
       "      <td>2010/01/05 16:26:12.662000000</td>\n",
       "      <td>2.008023e+09</td>\n",
       "      <td>ALUNO DE GRADUAÇÃO</td>\n",
       "    </tr>\n",
       "  </tbody>\n",
       "</table>\n",
       "</div>"
      ],
      "text/plain": [
       "   id_emprestimo codigo_barras                 data_renovacao  \\\n",
       "0         709684       L095049                            NaN   \n",
       "1         709685       L167050                            NaN   \n",
       "2         709686    2006017618  2010/01/26 08:07:01.738000000   \n",
       "3         709687       L184117  2010/01/18 11:07:46.470000000   \n",
       "4         709684       L095049                            NaN   \n",
       "\n",
       "                 data_emprestimo                 data_devolucao  \\\n",
       "0  2010/01/04 07:44:10.721000000  2010/01/05 16:26:12.662000000   \n",
       "1  2010/01/04 07:44:10.750000000  2010/01/12 07:34:13.934000000   \n",
       "2  2010/01/04 08:08:44.081000000  2010/02/25 07:36:25.800000000   \n",
       "3  2010/01/04 08:24:21.284000000  2010/02/03 08:58:45.692000000   \n",
       "4  2010/01/04 07:44:10.721000000  2010/01/05 16:26:12.662000000   \n",
       "\n",
       "   matricula_ou_siape    tipo_vinculo_usuario  \n",
       "0        2.008023e+09      ALUNO DE GRADUAÇÃO  \n",
       "1        2.008023e+09      ALUNO DE GRADUAÇÃO  \n",
       "2        2.008112e+09  ALUNO DE PÓS-GRADUAÇÃO  \n",
       "3        2.007211e+08      ALUNO DE GRADUAÇÃO  \n",
       "4        2.008023e+09      ALUNO DE GRADUAÇÃO  "
      ]
     },
     "execution_count": 3,
     "metadata": {},
     "output_type": "execute_result"
    }
   ],
   "source": [
    "arquivos = glob.glob(\"dados/*.csv\")\n",
    "\n",
    "emprestimos_biblioteca = pd.DataFrame()\n",
    "for i in arquivos:\n",
    "    csv = pd.read_csv(i)\n",
    "    emprestimos_biblioteca = emprestimos_biblioteca.append(csv)\n",
    "    \n",
    "emprestimos_biblioteca.head()"
   ]
  },
  {
   "cell_type": "code",
   "execution_count": 4,
   "id": "bf217a8d",
   "metadata": {},
   "outputs": [
    {
     "data": {
      "text/html": [
       "<div>\n",
       "<style scoped>\n",
       "    .dataframe tbody tr th:only-of-type {\n",
       "        vertical-align: middle;\n",
       "    }\n",
       "\n",
       "    .dataframe tbody tr th {\n",
       "        vertical-align: top;\n",
       "    }\n",
       "\n",
       "    .dataframe thead th {\n",
       "        text-align: right;\n",
       "    }\n",
       "</style>\n",
       "<table border=\"1\" class=\"dataframe\">\n",
       "  <thead>\n",
       "    <tr style=\"text-align: right;\">\n",
       "      <th></th>\n",
       "      <th>id_exemplar</th>\n",
       "      <th>codigo_barras</th>\n",
       "      <th>colecao</th>\n",
       "      <th>biblioteca</th>\n",
       "      <th>status_material</th>\n",
       "      <th>localizacao</th>\n",
       "      <th>registro_sistema</th>\n",
       "    </tr>\n",
       "    <tr>\n",
       "      <th>index</th>\n",
       "      <th></th>\n",
       "      <th></th>\n",
       "      <th></th>\n",
       "      <th></th>\n",
       "      <th></th>\n",
       "      <th></th>\n",
       "      <th></th>\n",
       "    </tr>\n",
       "  </thead>\n",
       "  <tbody>\n",
       "    <tr>\n",
       "      <th>0</th>\n",
       "      <td>5</td>\n",
       "      <td>L000003</td>\n",
       "      <td>Acervo Circulante</td>\n",
       "      <td>Biblioteca Central Zila Mamede</td>\n",
       "      <td>REGULAR</td>\n",
       "      <td>694</td>\n",
       "      <td>1</td>\n",
       "    </tr>\n",
       "    <tr>\n",
       "      <th>1</th>\n",
       "      <td>4</td>\n",
       "      <td>L000002</td>\n",
       "      <td>Acervo Circulante</td>\n",
       "      <td>Biblioteca Central Zila Mamede</td>\n",
       "      <td>REGULAR</td>\n",
       "      <td>688</td>\n",
       "      <td>1</td>\n",
       "    </tr>\n",
       "    <tr>\n",
       "      <th>2</th>\n",
       "      <td>3</td>\n",
       "      <td>L000001</td>\n",
       "      <td>Acervo Circulante</td>\n",
       "      <td>Biblioteca Central Zila Mamede</td>\n",
       "      <td>ESPECIAL</td>\n",
       "      <td>638</td>\n",
       "      <td>1</td>\n",
       "    </tr>\n",
       "    <tr>\n",
       "      <th>3</th>\n",
       "      <td>7</td>\n",
       "      <td>L000114</td>\n",
       "      <td>Acervo Circulante</td>\n",
       "      <td>Biblioteca Central Zila Mamede</td>\n",
       "      <td>REGULAR</td>\n",
       "      <td>616</td>\n",
       "      <td>5</td>\n",
       "    </tr>\n",
       "    <tr>\n",
       "      <th>5</th>\n",
       "      <td>10</td>\n",
       "      <td>L000041</td>\n",
       "      <td>Acervo Circulante</td>\n",
       "      <td>Biblioteca Central Zila Mamede</td>\n",
       "      <td>ESPECIAL</td>\n",
       "      <td>657</td>\n",
       "      <td>15</td>\n",
       "    </tr>\n",
       "  </tbody>\n",
       "</table>\n",
       "</div>"
      ],
      "text/plain": [
       "       id_exemplar codigo_barras            colecao  \\\n",
       "index                                                 \n",
       "0                5       L000003  Acervo Circulante   \n",
       "1                4       L000002  Acervo Circulante   \n",
       "2                3       L000001  Acervo Circulante   \n",
       "3                7       L000114  Acervo Circulante   \n",
       "5               10       L000041  Acervo Circulante   \n",
       "\n",
       "                           biblioteca status_material  localizacao  \\\n",
       "index                                                                \n",
       "0      Biblioteca Central Zila Mamede         REGULAR          694   \n",
       "1      Biblioteca Central Zila Mamede         REGULAR          688   \n",
       "2      Biblioteca Central Zila Mamede        ESPECIAL          638   \n",
       "3      Biblioteca Central Zila Mamede         REGULAR          616   \n",
       "5      Biblioteca Central Zila Mamede        ESPECIAL          657   \n",
       "\n",
       "       registro_sistema  \n",
       "index                    \n",
       "0                     1  \n",
       "1                     1  \n",
       "2                     1  \n",
       "3                     5  \n",
       "5                    15  "
      ]
     },
     "execution_count": 4,
     "metadata": {},
     "output_type": "execute_result"
    }
   ],
   "source": [
    "dados_exemplares = pd.read_parquet('dados/dados_exemplares.parquet')\n",
    "dados_exemplares.head()"
   ]
  },
  {
   "cell_type": "code",
   "execution_count": 5,
   "id": "87b5cc0b",
   "metadata": {},
   "outputs": [
    {
     "data": {
      "text/html": [
       "<div>\n",
       "<style scoped>\n",
       "    .dataframe tbody tr th:only-of-type {\n",
       "        vertical-align: middle;\n",
       "    }\n",
       "\n",
       "    .dataframe tbody tr th {\n",
       "        vertical-align: top;\n",
       "    }\n",
       "\n",
       "    .dataframe thead th {\n",
       "        text-align: right;\n",
       "    }\n",
       "</style>\n",
       "<table border=\"1\" class=\"dataframe\">\n",
       "  <thead>\n",
       "    <tr style=\"text-align: right;\">\n",
       "      <th></th>\n",
       "      <th>id_emprestimo</th>\n",
       "      <th>codigo_barras</th>\n",
       "      <th>data_renovacao</th>\n",
       "      <th>data_emprestimo</th>\n",
       "      <th>data_devolucao</th>\n",
       "      <th>matricula_ou_siape</th>\n",
       "      <th>tipo_vinculo_usuario</th>\n",
       "      <th>id_exemplar</th>\n",
       "      <th>colecao</th>\n",
       "      <th>biblioteca</th>\n",
       "      <th>status_material</th>\n",
       "      <th>localizacao</th>\n",
       "      <th>registro_sistema</th>\n",
       "    </tr>\n",
       "  </thead>\n",
       "  <tbody>\n",
       "    <tr>\n",
       "      <th>0</th>\n",
       "      <td>709684</td>\n",
       "      <td>L095049</td>\n",
       "      <td>NaN</td>\n",
       "      <td>2010/01/04 07:44:10.721000000</td>\n",
       "      <td>2010/01/05 16:26:12.662000000</td>\n",
       "      <td>2.008023e+09</td>\n",
       "      <td>ALUNO DE GRADUAÇÃO</td>\n",
       "      <td>13259</td>\n",
       "      <td>Acervo Circulante</td>\n",
       "      <td>Biblioteca Central Zila Mamede</td>\n",
       "      <td>REGULAR</td>\n",
       "      <td>630</td>\n",
       "      <td>4225</td>\n",
       "    </tr>\n",
       "    <tr>\n",
       "      <th>1</th>\n",
       "      <td>709684</td>\n",
       "      <td>L095049</td>\n",
       "      <td>NaN</td>\n",
       "      <td>2010/01/04 07:44:10.721000000</td>\n",
       "      <td>2010/01/05 16:26:12.662000000</td>\n",
       "      <td>2.008023e+09</td>\n",
       "      <td>ALUNO DE GRADUAÇÃO</td>\n",
       "      <td>13259</td>\n",
       "      <td>Acervo Circulante</td>\n",
       "      <td>Biblioteca Central Zila Mamede</td>\n",
       "      <td>REGULAR</td>\n",
       "      <td>630</td>\n",
       "      <td>4225</td>\n",
       "    </tr>\n",
       "    <tr>\n",
       "      <th>2</th>\n",
       "      <td>726965</td>\n",
       "      <td>L095049</td>\n",
       "      <td>2010/03/31 12:41:08.684000000</td>\n",
       "      <td>2010/03/01 12:40:56.212000000</td>\n",
       "      <td>2010/04/30 14:42:35.366000000</td>\n",
       "      <td>2.009122e+09</td>\n",
       "      <td>ALUNO DE PÓS-GRADUAÇÃO</td>\n",
       "      <td>13259</td>\n",
       "      <td>Acervo Circulante</td>\n",
       "      <td>Biblioteca Central Zila Mamede</td>\n",
       "      <td>REGULAR</td>\n",
       "      <td>630</td>\n",
       "      <td>4225</td>\n",
       "    </tr>\n",
       "    <tr>\n",
       "      <th>3</th>\n",
       "      <td>709685</td>\n",
       "      <td>L167050</td>\n",
       "      <td>NaN</td>\n",
       "      <td>2010/01/04 07:44:10.750000000</td>\n",
       "      <td>2010/01/12 07:34:13.934000000</td>\n",
       "      <td>2.008023e+09</td>\n",
       "      <td>ALUNO DE GRADUAÇÃO</td>\n",
       "      <td>70865</td>\n",
       "      <td>Acervo Circulante</td>\n",
       "      <td>Biblioteca Central Zila Mamede</td>\n",
       "      <td>REGULAR</td>\n",
       "      <td>647</td>\n",
       "      <td>25009</td>\n",
       "    </tr>\n",
       "    <tr>\n",
       "      <th>4</th>\n",
       "      <td>709685</td>\n",
       "      <td>L167050</td>\n",
       "      <td>NaN</td>\n",
       "      <td>2010/01/04 07:44:10.750000000</td>\n",
       "      <td>2010/01/12 07:34:13.934000000</td>\n",
       "      <td>2.008023e+09</td>\n",
       "      <td>ALUNO DE GRADUAÇÃO</td>\n",
       "      <td>70865</td>\n",
       "      <td>Acervo Circulante</td>\n",
       "      <td>Biblioteca Central Zila Mamede</td>\n",
       "      <td>REGULAR</td>\n",
       "      <td>647</td>\n",
       "      <td>25009</td>\n",
       "    </tr>\n",
       "  </tbody>\n",
       "</table>\n",
       "</div>"
      ],
      "text/plain": [
       "   id_emprestimo codigo_barras                 data_renovacao  \\\n",
       "0         709684       L095049                            NaN   \n",
       "1         709684       L095049                            NaN   \n",
       "2         726965       L095049  2010/03/31 12:41:08.684000000   \n",
       "3         709685       L167050                            NaN   \n",
       "4         709685       L167050                            NaN   \n",
       "\n",
       "                 data_emprestimo                 data_devolucao  \\\n",
       "0  2010/01/04 07:44:10.721000000  2010/01/05 16:26:12.662000000   \n",
       "1  2010/01/04 07:44:10.721000000  2010/01/05 16:26:12.662000000   \n",
       "2  2010/03/01 12:40:56.212000000  2010/04/30 14:42:35.366000000   \n",
       "3  2010/01/04 07:44:10.750000000  2010/01/12 07:34:13.934000000   \n",
       "4  2010/01/04 07:44:10.750000000  2010/01/12 07:34:13.934000000   \n",
       "\n",
       "   matricula_ou_siape    tipo_vinculo_usuario  id_exemplar            colecao  \\\n",
       "0        2.008023e+09      ALUNO DE GRADUAÇÃO        13259  Acervo Circulante   \n",
       "1        2.008023e+09      ALUNO DE GRADUAÇÃO        13259  Acervo Circulante   \n",
       "2        2.009122e+09  ALUNO DE PÓS-GRADUAÇÃO        13259  Acervo Circulante   \n",
       "3        2.008023e+09      ALUNO DE GRADUAÇÃO        70865  Acervo Circulante   \n",
       "4        2.008023e+09      ALUNO DE GRADUAÇÃO        70865  Acervo Circulante   \n",
       "\n",
       "                       biblioteca status_material  localizacao  \\\n",
       "0  Biblioteca Central Zila Mamede         REGULAR          630   \n",
       "1  Biblioteca Central Zila Mamede         REGULAR          630   \n",
       "2  Biblioteca Central Zila Mamede         REGULAR          630   \n",
       "3  Biblioteca Central Zila Mamede         REGULAR          647   \n",
       "4  Biblioteca Central Zila Mamede         REGULAR          647   \n",
       "\n",
       "   registro_sistema  \n",
       "0              4225  \n",
       "1              4225  \n",
       "2              4225  \n",
       "3             25009  \n",
       "4             25009  "
      ]
     },
     "execution_count": 5,
     "metadata": {},
     "output_type": "execute_result"
    }
   ],
   "source": [
    "emprestimos_completo = emprestimos_biblioteca.merge(dados_exemplares)\n",
    "emprestimos_completo.head()"
   ]
  },
  {
   "cell_type": "markdown",
   "id": "b4480de3",
   "metadata": {},
   "source": [
    "## Parte II: Entendendo e tratando os dados"
   ]
  },
  {
   "cell_type": "code",
   "execution_count": 6,
   "id": "6ada3de8",
   "metadata": {},
   "outputs": [
    {
     "data": {
      "text/plain": [
       "(2072558, 13)"
      ]
     },
     "execution_count": 6,
     "metadata": {},
     "output_type": "execute_result"
    }
   ],
   "source": [
    "emprestimos_completo.shape"
   ]
  },
  {
   "cell_type": "code",
   "execution_count": 7,
   "id": "9230781c",
   "metadata": {},
   "outputs": [
    {
     "data": {
      "text/plain": [
       "id_emprestimo             int64\n",
       "codigo_barras            object\n",
       "data_renovacao           object\n",
       "data_emprestimo          object\n",
       "data_devolucao           object\n",
       "matricula_ou_siape      float64\n",
       "tipo_vinculo_usuario     object\n",
       "id_exemplar               int64\n",
       "colecao                  object\n",
       "biblioteca               object\n",
       "status_material          object\n",
       "localizacao               int64\n",
       "registro_sistema          int64\n",
       "dtype: object"
      ]
     },
     "execution_count": 7,
     "metadata": {},
     "output_type": "execute_result"
    }
   ],
   "source": [
    "emprestimos_completo.dtypes"
   ]
  },
  {
   "cell_type": "code",
   "execution_count": 8,
   "id": "1cdf1ff3",
   "metadata": {},
   "outputs": [
    {
     "data": {
      "text/plain": [
       "id_emprestimo                 0\n",
       "codigo_barras                 0\n",
       "data_renovacao          1162088\n",
       "data_emprestimo               0\n",
       "data_devolucao             6178\n",
       "matricula_ou_siape         2893\n",
       "tipo_vinculo_usuario          0\n",
       "id_exemplar                   0\n",
       "colecao                       0\n",
       "biblioteca                    0\n",
       "status_material               0\n",
       "localizacao                   0\n",
       "registro_sistema              0\n",
       "dtype: int64"
      ]
     },
     "execution_count": 8,
     "metadata": {},
     "output_type": "execute_result"
    }
   ],
   "source": [
    "emprestimos_completo.isnull().sum()"
   ]
  },
  {
   "cell_type": "code",
   "execution_count": 9,
   "id": "df2b45d4",
   "metadata": {},
   "outputs": [],
   "source": [
    "emprestimos_completo = emprestimos_completo.drop(columns = 'registro_sistema', axis = 1)"
   ]
  },
  {
   "cell_type": "code",
   "execution_count": 10,
   "id": "e52453c9",
   "metadata": {},
   "outputs": [],
   "source": [
    "emprestimos_completo = emprestimos_completo.dropna(subset=['matricula_ou_siape'])"
   ]
  },
  {
   "cell_type": "code",
   "execution_count": 11,
   "id": "d6580210",
   "metadata": {},
   "outputs": [],
   "source": [
    "emprestimos_completo[\"matricula_ou_siape\"] = emprestimos_completo[\"matricula_ou_siape\"].values.astype('str')"
   ]
  },
  {
   "cell_type": "code",
   "execution_count": 12,
   "id": "ba9ea5bf",
   "metadata": {},
   "outputs": [
    {
     "data": {
      "text/plain": [
       "id_emprestimo                 0\n",
       "codigo_barras                 0\n",
       "data_renovacao          1159862\n",
       "data_emprestimo               0\n",
       "data_devolucao             6167\n",
       "matricula_ou_siape            0\n",
       "tipo_vinculo_usuario          0\n",
       "id_exemplar                   0\n",
       "colecao                       0\n",
       "biblioteca                    0\n",
       "status_material               0\n",
       "localizacao                   0\n",
       "dtype: int64"
      ]
     },
     "execution_count": 12,
     "metadata": {},
     "output_type": "execute_result"
    }
   ],
   "source": [
    "emprestimos_completo.isnull().sum()"
   ]
  },
  {
   "cell_type": "code",
   "execution_count": 13,
   "id": "82b6a165",
   "metadata": {},
   "outputs": [],
   "source": [
    "emprestimos_completo = emprestimos_completo.drop_duplicates()"
   ]
  },
  {
   "cell_type": "code",
   "execution_count": 14,
   "id": "f03024d1",
   "metadata": {},
   "outputs": [],
   "source": [
    "nova_coluna = []\n",
    "for linha in emprestimos_completo['localizacao']:\n",
    "    if linha <= 99:    \n",
    "        nova_coluna.append('Generalidades. Ciência e conhecimento')\n",
    "    elif 199 >= linha >= 100:  \n",
    "        nova_coluna.append('Filosofia e psicologia')\n",
    "    elif 299 >= linha >= 200:  \n",
    "        nova_coluna.append('Religião')\n",
    "    elif 399 >= linha >= 300:  \n",
    "        nova_coluna.append('Ciências sociais')\n",
    "    elif 499 >= linha >= 400:  \n",
    "        nova_coluna.append('Classe vaga. Provisoriamente não ocupada')\n",
    "    elif 599 >= linha >= 500:  \n",
    "        nova_coluna.append('Matemática e ciências naturais')\n",
    "    elif 699 >= linha >= 600:  \n",
    "        nova_coluna.append('Ciências aplicadas')\n",
    "    elif 799 >= linha >= 700:  \n",
    "        nova_coluna.append('Linguagem. Língua. Linguística')\n",
    "    elif 899 >= linha >= 800:  \n",
    "        nova_coluna.append('Belas artes')\n",
    "    elif linha >= 900:  \n",
    "        nova_coluna.append('Geografia. Biografia. História')"
   ]
  },
  {
   "cell_type": "code",
   "execution_count": 15,
   "id": "f5fa50fa",
   "metadata": {},
   "outputs": [],
   "source": [
    "emprestimos_completo['classe_geral'] = nova_coluna"
   ]
  },
  {
   "cell_type": "code",
   "execution_count": 16,
   "id": "bce26327",
   "metadata": {},
   "outputs": [
    {
     "data": {
      "text/html": [
       "<div>\n",
       "<style scoped>\n",
       "    .dataframe tbody tr th:only-of-type {\n",
       "        vertical-align: middle;\n",
       "    }\n",
       "\n",
       "    .dataframe tbody tr th {\n",
       "        vertical-align: top;\n",
       "    }\n",
       "\n",
       "    .dataframe thead th {\n",
       "        text-align: right;\n",
       "    }\n",
       "</style>\n",
       "<table border=\"1\" class=\"dataframe\">\n",
       "  <thead>\n",
       "    <tr style=\"text-align: right;\">\n",
       "      <th></th>\n",
       "      <th>id_emprestimo</th>\n",
       "      <th>codigo_barras</th>\n",
       "      <th>data_renovacao</th>\n",
       "      <th>data_emprestimo</th>\n",
       "      <th>data_devolucao</th>\n",
       "      <th>matricula_ou_siape</th>\n",
       "      <th>tipo_vinculo_usuario</th>\n",
       "      <th>id_exemplar</th>\n",
       "      <th>colecao</th>\n",
       "      <th>biblioteca</th>\n",
       "      <th>status_material</th>\n",
       "      <th>localizacao</th>\n",
       "      <th>classe_geral</th>\n",
       "    </tr>\n",
       "  </thead>\n",
       "  <tbody>\n",
       "    <tr>\n",
       "      <th>0</th>\n",
       "      <td>709684</td>\n",
       "      <td>L095049</td>\n",
       "      <td>NaN</td>\n",
       "      <td>2010/01/04 07:44:10.721000000</td>\n",
       "      <td>2010/01/05 16:26:12.662000000</td>\n",
       "      <td>2008023265.0</td>\n",
       "      <td>ALUNO DE GRADUAÇÃO</td>\n",
       "      <td>13259</td>\n",
       "      <td>Acervo Circulante</td>\n",
       "      <td>Biblioteca Central Zila Mamede</td>\n",
       "      <td>REGULAR</td>\n",
       "      <td>630</td>\n",
       "      <td>Ciências aplicadas</td>\n",
       "    </tr>\n",
       "    <tr>\n",
       "      <th>2</th>\n",
       "      <td>726965</td>\n",
       "      <td>L095049</td>\n",
       "      <td>2010/03/31 12:41:08.684000000</td>\n",
       "      <td>2010/03/01 12:40:56.212000000</td>\n",
       "      <td>2010/04/30 14:42:35.366000000</td>\n",
       "      <td>2009121584.0</td>\n",
       "      <td>ALUNO DE PÓS-GRADUAÇÃO</td>\n",
       "      <td>13259</td>\n",
       "      <td>Acervo Circulante</td>\n",
       "      <td>Biblioteca Central Zila Mamede</td>\n",
       "      <td>REGULAR</td>\n",
       "      <td>630</td>\n",
       "      <td>Ciências aplicadas</td>\n",
       "    </tr>\n",
       "    <tr>\n",
       "      <th>3</th>\n",
       "      <td>709685</td>\n",
       "      <td>L167050</td>\n",
       "      <td>NaN</td>\n",
       "      <td>2010/01/04 07:44:10.750000000</td>\n",
       "      <td>2010/01/12 07:34:13.934000000</td>\n",
       "      <td>2008023265.0</td>\n",
       "      <td>ALUNO DE GRADUAÇÃO</td>\n",
       "      <td>70865</td>\n",
       "      <td>Acervo Circulante</td>\n",
       "      <td>Biblioteca Central Zila Mamede</td>\n",
       "      <td>REGULAR</td>\n",
       "      <td>647</td>\n",
       "      <td>Ciências aplicadas</td>\n",
       "    </tr>\n",
       "    <tr>\n",
       "      <th>5</th>\n",
       "      <td>717763</td>\n",
       "      <td>L167050</td>\n",
       "      <td>NaN</td>\n",
       "      <td>2010/02/11 11:16:30.335000000</td>\n",
       "      <td>2010/03/04 08:54:32.262000000</td>\n",
       "      <td>2008050352.0</td>\n",
       "      <td>ALUNO DE GRADUAÇÃO</td>\n",
       "      <td>70865</td>\n",
       "      <td>Acervo Circulante</td>\n",
       "      <td>Biblioteca Central Zila Mamede</td>\n",
       "      <td>REGULAR</td>\n",
       "      <td>647</td>\n",
       "      <td>Ciências aplicadas</td>\n",
       "    </tr>\n",
       "    <tr>\n",
       "      <th>6</th>\n",
       "      <td>729996</td>\n",
       "      <td>L167050</td>\n",
       "      <td>2010/03/17 09:08:26.874000000</td>\n",
       "      <td>2010/03/04 13:36:26.599000000</td>\n",
       "      <td>2010/03/31 18:04:29.669000000</td>\n",
       "      <td>200722565.0</td>\n",
       "      <td>ALUNO DE GRADUAÇÃO</td>\n",
       "      <td>70865</td>\n",
       "      <td>Acervo Circulante</td>\n",
       "      <td>Biblioteca Central Zila Mamede</td>\n",
       "      <td>REGULAR</td>\n",
       "      <td>647</td>\n",
       "      <td>Ciências aplicadas</td>\n",
       "    </tr>\n",
       "  </tbody>\n",
       "</table>\n",
       "</div>"
      ],
      "text/plain": [
       "   id_emprestimo codigo_barras                 data_renovacao  \\\n",
       "0         709684       L095049                            NaN   \n",
       "2         726965       L095049  2010/03/31 12:41:08.684000000   \n",
       "3         709685       L167050                            NaN   \n",
       "5         717763       L167050                            NaN   \n",
       "6         729996       L167050  2010/03/17 09:08:26.874000000   \n",
       "\n",
       "                 data_emprestimo                 data_devolucao  \\\n",
       "0  2010/01/04 07:44:10.721000000  2010/01/05 16:26:12.662000000   \n",
       "2  2010/03/01 12:40:56.212000000  2010/04/30 14:42:35.366000000   \n",
       "3  2010/01/04 07:44:10.750000000  2010/01/12 07:34:13.934000000   \n",
       "5  2010/02/11 11:16:30.335000000  2010/03/04 08:54:32.262000000   \n",
       "6  2010/03/04 13:36:26.599000000  2010/03/31 18:04:29.669000000   \n",
       "\n",
       "  matricula_ou_siape    tipo_vinculo_usuario  id_exemplar            colecao  \\\n",
       "0       2008023265.0      ALUNO DE GRADUAÇÃO        13259  Acervo Circulante   \n",
       "2       2009121584.0  ALUNO DE PÓS-GRADUAÇÃO        13259  Acervo Circulante   \n",
       "3       2008023265.0      ALUNO DE GRADUAÇÃO        70865  Acervo Circulante   \n",
       "5       2008050352.0      ALUNO DE GRADUAÇÃO        70865  Acervo Circulante   \n",
       "6        200722565.0      ALUNO DE GRADUAÇÃO        70865  Acervo Circulante   \n",
       "\n",
       "                       biblioteca status_material  localizacao  \\\n",
       "0  Biblioteca Central Zila Mamede         REGULAR          630   \n",
       "2  Biblioteca Central Zila Mamede         REGULAR          630   \n",
       "3  Biblioteca Central Zila Mamede         REGULAR          647   \n",
       "5  Biblioteca Central Zila Mamede         REGULAR          647   \n",
       "6  Biblioteca Central Zila Mamede         REGULAR          647   \n",
       "\n",
       "         classe_geral  \n",
       "0  Ciências aplicadas  \n",
       "2  Ciências aplicadas  \n",
       "3  Ciências aplicadas  \n",
       "5  Ciências aplicadas  \n",
       "6  Ciências aplicadas  "
      ]
     },
     "execution_count": 16,
     "metadata": {},
     "output_type": "execute_result"
    }
   ],
   "source": [
    "emprestimos_completo.head()"
   ]
  },
  {
   "cell_type": "markdown",
   "id": "41960067",
   "metadata": {},
   "source": [
    "## Parte III: Analisando os dados "
   ]
  },
  {
   "cell_type": "code",
   "execution_count": 17,
   "id": "547cf3fb",
   "metadata": {},
   "outputs": [],
   "source": [
    "emprestimo_ano = [i[:4] for i in emprestimos_completo.data_emprestimo]"
   ]
  },
  {
   "cell_type": "code",
   "execution_count": 18,
   "id": "b2239261",
   "metadata": {},
   "outputs": [],
   "source": [
    "contagem = Counter(emprestimo_ano)"
   ]
  },
  {
   "cell_type": "code",
   "execution_count": 19,
   "id": "f0786d90",
   "metadata": {},
   "outputs": [],
   "source": [
    "emprestimo_anual = pd.DataFrame.from_dict(contagem, orient='index').reset_index()"
   ]
  },
  {
   "cell_type": "code",
   "execution_count": 20,
   "id": "d7dc296c",
   "metadata": {},
   "outputs": [],
   "source": [
    "emprestimo_anual.rename(columns = {'index': 'Ano', 0: 'Empréstimos'}, inplace=True)"
   ]
  },
  {
   "cell_type": "code",
   "execution_count": 21,
   "id": "5daf9617",
   "metadata": {},
   "outputs": [
    {
     "data": {
      "image/png": "[encoded data removed]",
      "text/plain": [
       "<Figure size 1200x600 with 1 Axes>"
      ]
     },
     "metadata": {},
     "output_type": "display_data"
    }
   ],
   "source": [
    "sns.set_palette('Accent')\n",
    "sns.set_style('darkgrid')\n",
    "ax = sns.lineplot(x = emprestimo_anual.Ano, y = emprestimo_anual['Empréstimos'], data=emprestimo_anual)\n",
    "ax.figure.set_size_inches(12,6)\n",
    "ax.set_title('Empréstimos por Ano', fontsize = 18)\n",
    "ax.set_xlabel('Período', fontsize = 14)\n",
    "ax.set_ylabel('Empréstimos', fontsize = 14)\n",
    "ax = ax"
   ]
  },
  {
   "cell_type": "markdown",
   "id": "6c34e4ce",
   "metadata": {},
   "source": [
    "### Obervação I: O número de empretimos está em uma tendência de queda desde 2013. "
   ]
  },
  {
   "cell_type": "code",
   "execution_count": 22,
   "id": "dda9e04c",
   "metadata": {},
   "outputs": [],
   "source": [
    "emprestimo_mensal = [i[5:7] for i in emprestimos_completo.data_emprestimo]"
   ]
  },
  {
   "cell_type": "code",
   "execution_count": 23,
   "id": "4eaf3a53",
   "metadata": {},
   "outputs": [],
   "source": [
    "contagem = Counter(emprestimo_mensal)"
   ]
  },
  {
   "cell_type": "code",
   "execution_count": 24,
   "id": "a99d1edc",
   "metadata": {},
   "outputs": [],
   "source": [
    "emprestimo_mensal = pd.DataFrame.from_dict(contagem, orient='index').reset_index()"
   ]
  },
  {
   "cell_type": "code",
   "execution_count": 25,
   "id": "eb65aa70",
   "metadata": {},
   "outputs": [],
   "source": [
    "emprestimo_mensal.rename(columns = {'index': 'Mês', 0: 'Empréstimos'}, inplace=True)"
   ]
  },
  {
   "cell_type": "code",
   "execution_count": 26,
   "id": "82aa19c3",
   "metadata": {
    "scrolled": true
   },
   "outputs": [
    {
     "data": {
      "image/png": "[encoded data removed]",
      "text/plain": [
       "<Figure size 1200x600 with 1 Axes>"
      ]
     },
     "metadata": {},
     "output_type": "display_data"
    }
   ],
   "source": [
    "sns.set_palette('Accent')\n",
    "sns.set_style('darkgrid')\n",
    "ax = sns.lineplot(x = emprestimo_mensal['Mês'], y = emprestimo_mensal['Empréstimos'], data=emprestimo_mensal)\n",
    "ax.figure.set_size_inches(12,6)\n",
    "ax.set_title('Empréstimos por Mês', fontsize = 18)\n",
    "ax.set_xlabel('Período', fontsize = 14)\n",
    "ax.set_ylabel('Empréstimos', fontsize = 14)\n",
    "ax = ax"
   ]
  },
  {
   "cell_type": "markdown",
   "id": "8791a708",
   "metadata": {},
   "source": [
    "### Obersevação II: Segundo os dados, os meses de março e agosto possuem os maiores números de empréstimos. "
   ]
  },
  {
   "cell_type": "code",
   "execution_count": 27,
   "id": "6778e075",
   "metadata": {},
   "outputs": [],
   "source": [
    "emprestimo_diario_str = [i[11:13] for i in emprestimos_completo.data_emprestimo]\n",
    "emprestimo_diario = []\n",
    "for i in emprestimo_diario_str:\n",
    "    emprestimo_diario.append(int(i))\n",
    "    \n",
    "emprestimo_diario.sort()"
   ]
  },
  {
   "cell_type": "code",
   "execution_count": 28,
   "id": "2ea4aff3",
   "metadata": {},
   "outputs": [],
   "source": [
    "contagem = Counter(emprestimo_diario)\n",
    "emprestimo_diario = pd.DataFrame.from_dict(contagem, orient='index').reset_index()\n",
    "emprestimo_diario.rename(columns = {'index': 'Horário', 0: 'Empréstimos'}, inplace=True)"
   ]
  },
  {
   "cell_type": "code",
   "execution_count": 29,
   "id": "fc749ce1",
   "metadata": {},
   "outputs": [
    {
     "data": {
      "image/png": "[encoded data removed]",
      "text/plain": [
       "<Figure size 1200x600 with 1 Axes>"
      ]
     },
     "metadata": {},
     "output_type": "display_data"
    }
   ],
   "source": [
    "sns.set_palette('Accent')\n",
    "sns.set_style('darkgrid')\n",
    "ax = sns.barplot(x = emprestimo_diario['Horário'], y = emprestimo_diario['Empréstimos'], data=emprestimo_diario, palette='Purples')\n",
    "ax.figure.set_size_inches(12,6)\n",
    "ax.set_title('Empréstimos por Hora', fontsize = 18)\n",
    "ax.set_xlabel('Período', fontsize = 14)\n",
    "ax.set_ylabel('Empréstimos', fontsize = 14)\n",
    "ax = ax"
   ]
  },
  {
   "cell_type": "markdown",
   "id": "e3c627b4",
   "metadata": {},
   "source": [
    "### Observação III: Os horários por volta de 10 da manhã e 16 da tarde. "
   ]
  },
  {
   "cell_type": "code",
   "execution_count": 30,
   "id": "450bf255",
   "metadata": {},
   "outputs": [],
   "source": [
    "def divisao_percentual(coluna, base_dados):\n",
    "    valores = base_dados[coluna].value_counts(normalize=True).map(\"{:.1%}\".format)\n",
    "    valores = pd.DataFrame(valores)\n",
    "    return valores"
   ]
  },
  {
   "cell_type": "code",
   "execution_count": 31,
   "id": "0f928865",
   "metadata": {},
   "outputs": [
    {
     "data": {
      "text/html": [
       "<div>\n",
       "<style scoped>\n",
       "    .dataframe tbody tr th:only-of-type {\n",
       "        vertical-align: middle;\n",
       "    }\n",
       "\n",
       "    .dataframe tbody tr th {\n",
       "        vertical-align: top;\n",
       "    }\n",
       "\n",
       "    .dataframe thead th {\n",
       "        text-align: right;\n",
       "    }\n",
       "</style>\n",
       "<table border=\"1\" class=\"dataframe\">\n",
       "  <thead>\n",
       "    <tr style=\"text-align: right;\">\n",
       "      <th></th>\n",
       "      <th>biblioteca</th>\n",
       "    </tr>\n",
       "  </thead>\n",
       "  <tbody>\n",
       "    <tr>\n",
       "      <th>Biblioteca Central Zila Mamede</th>\n",
       "      <td>68.9%</td>\n",
       "    </tr>\n",
       "    <tr>\n",
       "      <th>Biblioteca Setorial do Centro Ciências da Saúde - CCS</th>\n",
       "      <td>5.7%</td>\n",
       "    </tr>\n",
       "    <tr>\n",
       "      <th>Biblioteca Setorial da Faculdade de Ciências da Saúde do Trairi - FACISA - Santa Cruz</th>\n",
       "      <td>3.7%</td>\n",
       "    </tr>\n",
       "    <tr>\n",
       "      <th>Biblioteca Setorial Prof. Alberto Moreira Campos - ­Departamento de Odontologia</th>\n",
       "      <td>3.1%</td>\n",
       "    </tr>\n",
       "    <tr>\n",
       "      <th>Biblioteca Setorial Profª. Maria Lúcia da Costa Bezerra - ­CERES­ - Caicó</th>\n",
       "      <td>3.0%</td>\n",
       "    </tr>\n",
       "    <tr>\n",
       "      <th>Biblioteca Setorial Bertha Cruz Enders - ­Escola de Saúde da UFRN - ESUFRN</th>\n",
       "      <td>2.2%</td>\n",
       "    </tr>\n",
       "    <tr>\n",
       "      <th>Biblioteca Setorial do Centro de Ciências Humanas, Letras e Artes - CCHLA</th>\n",
       "      <td>2.0%</td>\n",
       "    </tr>\n",
       "    <tr>\n",
       "      <th>Biblioteca Setorial Dr. Paulo Bezerra - EMCM/RN - Caicó</th>\n",
       "      <td>1.6%</td>\n",
       "    </tr>\n",
       "    <tr>\n",
       "      <th>Biblioteca Setorial Profª. Maria José Mamede Galvão - FELCS - Currais Novos</th>\n",
       "      <td>1.4%</td>\n",
       "    </tr>\n",
       "    <tr>\n",
       "      <th>Biblioteca Setorial Prof. Rodolfo Helinski - Escola Agrícola de Jundiaí - EAJ  - Macaiba</th>\n",
       "      <td>1.3%</td>\n",
       "    </tr>\n",
       "    <tr>\n",
       "      <th>Biblioteca Setorial Prof. Francisco Gurgel De Azevedo - Instituto Química - IQ</th>\n",
       "      <td>1.3%</td>\n",
       "    </tr>\n",
       "    <tr>\n",
       "      <th>Biblioteca Setorial do Núcleo de Educação da Infância - NEI</th>\n",
       "      <td>1.1%</td>\n",
       "    </tr>\n",
       "    <tr>\n",
       "      <th>Biblioteca Setorial Prof. Ronaldo Xavier de Arruda - CCET</th>\n",
       "      <td>1.1%</td>\n",
       "    </tr>\n",
       "    <tr>\n",
       "      <th>Biblioteca Setorial Pe. Jaime Diniz - Escola de Música - EMUFRN</th>\n",
       "      <td>1.0%</td>\n",
       "    </tr>\n",
       "    <tr>\n",
       "      <th>Biblioteca Setorial do Departamento de Artes - DEART</th>\n",
       "      <td>0.8%</td>\n",
       "    </tr>\n",
       "    <tr>\n",
       "      <th>Biblioteca Setorial Prof. Leopoldo Nelson - ­Centro de Biociências - CB</th>\n",
       "      <td>0.6%</td>\n",
       "    </tr>\n",
       "    <tr>\n",
       "      <th>Biblioteca Setorial do Centro Ciências Sociais Aplicadas - CCSA</th>\n",
       "      <td>0.5%</td>\n",
       "    </tr>\n",
       "    <tr>\n",
       "      <th>Biblioteca Setorial Prof. Dr. Marcelo Bezerra de Melo Tinôco - DARQ - ­CT</th>\n",
       "      <td>0.2%</td>\n",
       "    </tr>\n",
       "    <tr>\n",
       "      <th>Biblioteca Setorial Prof. Horácio Nicolas Solimo - ­ Engenharia Química - EQ - CT</th>\n",
       "      <td>0.2%</td>\n",
       "    </tr>\n",
       "    <tr>\n",
       "      <th>Biblioteca Setorial Moacyr de Góes - CE</th>\n",
       "      <td>0.1%</td>\n",
       "    </tr>\n",
       "    <tr>\n",
       "      <th>Biblioteca Setorial Árvore do Conhecimento - Instituto do Cérebro - ICe</th>\n",
       "      <td>0.0%</td>\n",
       "    </tr>\n",
       "    <tr>\n",
       "      <th>Biblioteca Setorial do Núcleo de Ensino Superior do Agreste - NESA - Nova Cruz</th>\n",
       "      <td>0.0%</td>\n",
       "    </tr>\n",
       "  </tbody>\n",
       "</table>\n",
       "</div>"
      ],
      "text/plain": [
       "                                                   biblioteca\n",
       "Biblioteca Central Zila Mamede                          68.9%\n",
       "Biblioteca Setorial do Centro Ciências da Saúde...       5.7%\n",
       "Biblioteca Setorial da Faculdade de Ciências da...       3.7%\n",
       "Biblioteca Setorial Prof. Alberto Moreira Campo...       3.1%\n",
       "Biblioteca Setorial Profª. Maria Lúcia da Costa...       3.0%\n",
       "Biblioteca Setorial Bertha Cruz Enders - ­Escol...       2.2%\n",
       "Biblioteca Setorial do Centro de Ciências Human...       2.0%\n",
       "Biblioteca Setorial Dr. Paulo Bezerra - EMCM/RN...       1.6%\n",
       "Biblioteca Setorial Profª. Maria José Mamede Ga...       1.4%\n",
       "Biblioteca Setorial Prof. Rodolfo Helinski - Es...       1.3%\n",
       "Biblioteca Setorial Prof. Francisco Gurgel De A...       1.3%\n",
       "Biblioteca Setorial do Núcleo de Educação da In...       1.1%\n",
       "Biblioteca Setorial Prof. Ronaldo Xavier de Arr...       1.1%\n",
       "Biblioteca Setorial Pe. Jaime Diniz - Escola de...       1.0%\n",
       "Biblioteca Setorial do Departamento de Artes - ...       0.8%\n",
       "Biblioteca Setorial Prof. Leopoldo Nelson - ­Ce...       0.6%\n",
       "Biblioteca Setorial do Centro Ciências Sociais ...       0.5%\n",
       "Biblioteca Setorial Prof. Dr. Marcelo Bezerra d...       0.2%\n",
       "Biblioteca Setorial Prof. Horácio Nicolas Solim...       0.2%\n",
       "Biblioteca Setorial Moacyr de Góes - CE                  0.1%\n",
       "Biblioteca Setorial Árvore do Conhecimento - In...       0.0%\n",
       "Biblioteca Setorial do Núcleo de Ensino Superio...       0.0%"
      ]
     },
     "execution_count": 31,
     "metadata": {},
     "output_type": "execute_result"
    }
   ],
   "source": [
    "divisao_percentual(\"biblioteca\", emprestimos_completo)"
   ]
  },
  {
   "cell_type": "markdown",
   "id": "9b6e2b0d",
   "metadata": {},
   "source": [
    "### Observação IV: A maior parte dos empréstimos é na Biblioteca Central Zila Mamede (68,9%), sendo que as outras representam apenas pequenas frações.  "
   ]
  },
  {
   "cell_type": "code",
   "execution_count": 32,
   "id": "a9dfcda9",
   "metadata": {},
   "outputs": [
    {
     "data": {
      "text/html": [
       "<div>\n",
       "<style scoped>\n",
       "    .dataframe tbody tr th:only-of-type {\n",
       "        vertical-align: middle;\n",
       "    }\n",
       "\n",
       "    .dataframe tbody tr th {\n",
       "        vertical-align: top;\n",
       "    }\n",
       "\n",
       "    .dataframe thead th {\n",
       "        text-align: right;\n",
       "    }\n",
       "</style>\n",
       "<table border=\"1\" class=\"dataframe\">\n",
       "  <thead>\n",
       "    <tr style=\"text-align: right;\">\n",
       "      <th></th>\n",
       "      <th>classe_geral</th>\n",
       "    </tr>\n",
       "  </thead>\n",
       "  <tbody>\n",
       "    <tr>\n",
       "      <th>Ciências aplicadas</th>\n",
       "      <td>68.8%</td>\n",
       "    </tr>\n",
       "    <tr>\n",
       "      <th>Ciências sociais</th>\n",
       "      <td>17.8%</td>\n",
       "    </tr>\n",
       "    <tr>\n",
       "      <th>Matemática e ciências naturais</th>\n",
       "      <td>3.3%</td>\n",
       "    </tr>\n",
       "    <tr>\n",
       "      <th>Generalidades. Ciência e conhecimento</th>\n",
       "      <td>3.0%</td>\n",
       "    </tr>\n",
       "    <tr>\n",
       "      <th>Religião</th>\n",
       "      <td>3.0%</td>\n",
       "    </tr>\n",
       "    <tr>\n",
       "      <th>Filosofia e psicologia</th>\n",
       "      <td>2.9%</td>\n",
       "    </tr>\n",
       "    <tr>\n",
       "      <th>Geografia. Biografia. História</th>\n",
       "      <td>0.4%</td>\n",
       "    </tr>\n",
       "    <tr>\n",
       "      <th>Linguagem. Língua. Linguística</th>\n",
       "      <td>0.4%</td>\n",
       "    </tr>\n",
       "    <tr>\n",
       "      <th>Belas artes</th>\n",
       "      <td>0.4%</td>\n",
       "    </tr>\n",
       "  </tbody>\n",
       "</table>\n",
       "</div>"
      ],
      "text/plain": [
       "                                      classe_geral\n",
       "Ciências aplicadas                           68.8%\n",
       "Ciências sociais                             17.8%\n",
       "Matemática e ciências naturais                3.3%\n",
       "Generalidades. Ciência e conhecimento         3.0%\n",
       "Religião                                      3.0%\n",
       "Filosofia e psicologia                        2.9%\n",
       "Geografia. Biografia. História                0.4%\n",
       "Linguagem. Língua. Linguística                0.4%\n",
       "Belas artes                                   0.4%"
      ]
     },
     "execution_count": 32,
     "metadata": {},
     "output_type": "execute_result"
    }
   ],
   "source": [
    "divisao_percentual(\"classe_geral\", emprestimos_completo)"
   ]
  },
  {
   "cell_type": "markdown",
   "id": "d77d0263",
   "metadata": {},
   "source": [
    "### Observação V: A maior parte dos exemplares empréstados pertencem, esmagadoramente, à categoria de Ciências aplicadas (68,8%), seguida pela de Ciências sociais (17,8%).  "
   ]
  },
  {
   "cell_type": "code",
   "execution_count": 33,
   "id": "d8003594",
   "metadata": {},
   "outputs": [
    {
     "data": {
      "text/html": [
       "<div>\n",
       "<style scoped>\n",
       "    .dataframe tbody tr th:only-of-type {\n",
       "        vertical-align: middle;\n",
       "    }\n",
       "\n",
       "    .dataframe tbody tr th {\n",
       "        vertical-align: top;\n",
       "    }\n",
       "\n",
       "    .dataframe thead th {\n",
       "        text-align: right;\n",
       "    }\n",
       "</style>\n",
       "<table border=\"1\" class=\"dataframe\">\n",
       "  <thead>\n",
       "    <tr style=\"text-align: right;\">\n",
       "      <th></th>\n",
       "      <th>tipo_vinculo_usuario</th>\n",
       "    </tr>\n",
       "  </thead>\n",
       "  <tbody>\n",
       "    <tr>\n",
       "      <th>ALUNO DE GRADUAÇÃO</th>\n",
       "      <td>77.9%</td>\n",
       "    </tr>\n",
       "    <tr>\n",
       "      <th>ALUNO DE PÓS-GRADUAÇÃO</th>\n",
       "      <td>14.6%</td>\n",
       "    </tr>\n",
       "    <tr>\n",
       "      <th>DOCENTE</th>\n",
       "      <td>3.4%</td>\n",
       "    </tr>\n",
       "    <tr>\n",
       "      <th>SERVIDOR TÉCNICO-ADMINISTRATIVO</th>\n",
       "      <td>1.5%</td>\n",
       "    </tr>\n",
       "    <tr>\n",
       "      <th>ALUNO MÉDIO/TÉCNICO</th>\n",
       "      <td>1.4%</td>\n",
       "    </tr>\n",
       "    <tr>\n",
       "      <th>DOCENTE EXTERNO</th>\n",
       "      <td>1.2%</td>\n",
       "    </tr>\n",
       "    <tr>\n",
       "      <th>USUÁRIO EXTERNO</th>\n",
       "      <td>0.0%</td>\n",
       "    </tr>\n",
       "  </tbody>\n",
       "</table>\n",
       "</div>"
      ],
      "text/plain": [
       "                                tipo_vinculo_usuario\n",
       "ALUNO DE GRADUAÇÃO                             77.9%\n",
       "ALUNO DE PÓS-GRADUAÇÃO                         14.6%\n",
       "DOCENTE                                         3.4%\n",
       "SERVIDOR TÉCNICO-ADMINISTRATIVO                 1.5%\n",
       "ALUNO MÉDIO/TÉCNICO                             1.4%\n",
       "DOCENTE EXTERNO                                 1.2%\n",
       "USUÁRIO EXTERNO                                 0.0%"
      ]
     },
     "execution_count": 33,
     "metadata": {},
     "output_type": "execute_result"
    }
   ],
   "source": [
    "divisao_percentual(\"tipo_vinculo_usuario\", emprestimos_completo)"
   ]
  },
  {
   "cell_type": "markdown",
   "id": "b40964d0",
   "metadata": {},
   "source": [
    "### Observação VI: A maior parte do vínculo são de estudantes da gradução (77,9%), seguidos pelos da pós-graduação (14,6%). "
   ]
  },
  {
   "cell_type": "code",
   "execution_count": 34,
   "id": "64037b17",
   "metadata": {},
   "outputs": [],
   "source": [
    "selecao = emprestimos_completo['tipo_vinculo_usuario'] == 'ALUNO DE GRADUAÇÃO'\n",
    "emprestimos_graduacao = emprestimos_completo[selecao]"
   ]
  },
  {
   "cell_type": "code",
   "execution_count": 35,
   "id": "93365122",
   "metadata": {},
   "outputs": [
    {
     "data": {
      "text/html": [
       "<div>\n",
       "<style scoped>\n",
       "    .dataframe tbody tr th:only-of-type {\n",
       "        vertical-align: middle;\n",
       "    }\n",
       "\n",
       "    .dataframe tbody tr th {\n",
       "        vertical-align: top;\n",
       "    }\n",
       "\n",
       "    .dataframe thead th {\n",
       "        text-align: right;\n",
       "    }\n",
       "</style>\n",
       "<table border=\"1\" class=\"dataframe\">\n",
       "  <thead>\n",
       "    <tr style=\"text-align: right;\">\n",
       "      <th></th>\n",
       "      <th>classe_geral</th>\n",
       "    </tr>\n",
       "  </thead>\n",
       "  <tbody>\n",
       "    <tr>\n",
       "      <th>Ciências aplicadas</th>\n",
       "      <td>69.4%</td>\n",
       "    </tr>\n",
       "    <tr>\n",
       "      <th>Ciências sociais</th>\n",
       "      <td>17.8%</td>\n",
       "    </tr>\n",
       "    <tr>\n",
       "      <th>Matemática e ciências naturais</th>\n",
       "      <td>3.0%</td>\n",
       "    </tr>\n",
       "    <tr>\n",
       "      <th>Generalidades. Ciência e conhecimento</th>\n",
       "      <td>3.0%</td>\n",
       "    </tr>\n",
       "    <tr>\n",
       "      <th>Religião</th>\n",
       "      <td>2.9%</td>\n",
       "    </tr>\n",
       "    <tr>\n",
       "      <th>Filosofia e psicologia</th>\n",
       "      <td>2.9%</td>\n",
       "    </tr>\n",
       "    <tr>\n",
       "      <th>Geografia. Biografia. História</th>\n",
       "      <td>0.3%</td>\n",
       "    </tr>\n",
       "    <tr>\n",
       "      <th>Linguagem. Língua. Linguística</th>\n",
       "      <td>0.3%</td>\n",
       "    </tr>\n",
       "    <tr>\n",
       "      <th>Belas artes</th>\n",
       "      <td>0.3%</td>\n",
       "    </tr>\n",
       "  </tbody>\n",
       "</table>\n",
       "</div>"
      ],
      "text/plain": [
       "                                      classe_geral\n",
       "Ciências aplicadas                           69.4%\n",
       "Ciências sociais                             17.8%\n",
       "Matemática e ciências naturais                3.0%\n",
       "Generalidades. Ciência e conhecimento         3.0%\n",
       "Religião                                      2.9%\n",
       "Filosofia e psicologia                        2.9%\n",
       "Geografia. Biografia. História                0.3%\n",
       "Linguagem. Língua. Linguística                0.3%\n",
       "Belas artes                                   0.3%"
      ]
     },
     "execution_count": 35,
     "metadata": {},
     "output_type": "execute_result"
    }
   ],
   "source": [
    "divisao_percentual(\"classe_geral\", emprestimos_graduacao)"
   ]
  },
  {
   "cell_type": "code",
   "execution_count": 36,
   "id": "17575319",
   "metadata": {},
   "outputs": [],
   "source": [
    "selecao = emprestimos_graduacao['classe_geral'] == 'Ciências aplicadas'\n",
    "emprestimos_graduacao = emprestimos_graduacao[selecao]"
   ]
  },
  {
   "cell_type": "code",
   "execution_count": 37,
   "id": "783e8c04",
   "metadata": {},
   "outputs": [],
   "source": [
    "def criar_boxplot_empretimos(base_dados, ano, título):\n",
    "    emprestimo_anual_todos = [i[:7] for i in base_dados['data_emprestimo']]\n",
    "    emprestimos_anual_unico = [i for i in emprestimo_anual_todos if i[:4] == str(ano)]\n",
    "    emprestimos_anual_unico.sort()\n",
    "    contagem = Counter(emprestimos_anual_unico)\n",
    "    emprestimos_anual_unico = pd.DataFrame.from_dict(contagem, orient='index').reset_index()\n",
    "    emprestimos_anual_unico.rename(columns = {'index': 'Período', 0: 'Empréstimos'}, inplace=True)\n",
    "    ax = sns.boxplot( x = 'Empréstimos', data = emprestimos_anual_unico, orient = 'h')\n",
    "    ax.figure.set_size_inches(12, 4)\n",
    "    ax.set_title(título, fontsize=18)\n",
    "    ax.set_xlabel('Empréstimos', fontsize=14)\n",
    "    ax = ax"
   ]
  },
  {
   "cell_type": "markdown",
   "id": "1dca1856",
   "metadata": {},
   "source": [
    "### Emprétimos de exemplares de Ciências aplicadas feitos a alunos da graduação por ano"
   ]
  },
  {
   "cell_type": "code",
   "execution_count": 38,
   "id": "4bcf3637",
   "metadata": {},
   "outputs": [
    {
     "data": {
      "image/png": "[encoded data removed]",
      "text/plain": [
       "<Figure size 1200x400 with 1 Axes>"
      ]
     },
     "metadata": {},
     "output_type": "display_data"
    },
    {
     "data": {
      "image/png": "[encoded data removed]",
      "text/plain": [
       "<Figure size 1200x400 with 1 Axes>"
      ]
     },
     "metadata": {},
     "output_type": "display_data"
    },
    {
     "data": {
      "image/png": "[encoded data removed]",
      "text/plain": [
       "<Figure size 1200x400 with 1 Axes>"
      ]
     },
     "metadata": {},
     "output_type": "display_data"
    },
    {
     "data": {
      "image/png": "[encoded data removed]",
      "text/plain": [
       "<Figure size 1200x400 with 1 Axes>"
      ]
     },
     "metadata": {},
     "output_type": "display_data"
    },
    {
     "data": {
      "image/png": "[encoded data removed]",
      "text/plain": [
       "<Figure size 1200x400 with 1 Axes>"
      ]
     },
     "metadata": {},
     "output_type": "display_data"
    },
    {
     "data": {
      "image/png": "[encoded data removed]",
      "text/plain": [
       "<Figure size 1200x400 with 1 Axes>"
      ]
     },
     "metadata": {},
     "output_type": "display_data"
    },
    {
     "data": {
      "image/png": "[encoded data removed]",
      "text/plain": [
       "<Figure size 1200x400 with 1 Axes>"
      ]
     },
     "metadata": {},
     "output_type": "display_data"
    },
    {
     "data": {
      "image/png": "[encoded data removed]",
      "text/plain": [
       "<Figure size 1200x400 with 1 Axes>"
      ]
     },
     "metadata": {},
     "output_type": "display_data"
    },
    {
     "data": {
      "image/png": "[encoded data removed]",
      "text/plain": [
       "<Figure size 1200x400 with 1 Axes>"
      ]
     },
     "metadata": {},
     "output_type": "display_data"
    },
    {
     "data": {
      "image/png": "[encoded data removed]",
      "text/plain": [
       "<Figure size 1200x400 with 1 Axes>"
      ]
     },
     "metadata": {},
     "output_type": "display_data"
    },
    {
     "data": {
      "image/png": "[encoded data removed]",
      "text/plain": [
       "<Figure size 1200x400 with 1 Axes>"
      ]
     },
     "metadata": {},
     "output_type": "display_data"
    },
    {
     "data": {
      "text/plain": [
       "<Figure size 640x480 with 0 Axes>"
      ]
     },
     "metadata": {},
     "output_type": "display_data"
    }
   ],
   "source": [
    "ano = 2010 - 1\n",
    "for i in range(2010, 2020 + 1):\n",
    "    ano += 1\n",
    "    criar_boxplot_empretimos(emprestimos_graduacao, i, ano)\n",
    "    plt.figure()"
   ]
  },
  {
   "cell_type": "code",
   "execution_count": 39,
   "id": "7f5e1ecb",
   "metadata": {},
   "outputs": [],
   "source": [
    "selecao = emprestimos_completo['tipo_vinculo_usuario'] == 'ALUNO DE PÓS-GRADUAÇÃO'\n",
    "emprestimos_pos_graduacao = emprestimos_completo[selecao]"
   ]
  },
  {
   "cell_type": "code",
   "execution_count": 40,
   "id": "cb41b658",
   "metadata": {},
   "outputs": [
    {
     "data": {
      "text/html": [
       "<div>\n",
       "<style scoped>\n",
       "    .dataframe tbody tr th:only-of-type {\n",
       "        vertical-align: middle;\n",
       "    }\n",
       "\n",
       "    .dataframe tbody tr th {\n",
       "        vertical-align: top;\n",
       "    }\n",
       "\n",
       "    .dataframe thead th {\n",
       "        text-align: right;\n",
       "    }\n",
       "</style>\n",
       "<table border=\"1\" class=\"dataframe\">\n",
       "  <thead>\n",
       "    <tr style=\"text-align: right;\">\n",
       "      <th></th>\n",
       "      <th>classe_geral</th>\n",
       "    </tr>\n",
       "  </thead>\n",
       "  <tbody>\n",
       "    <tr>\n",
       "      <th>Ciências aplicadas</th>\n",
       "      <td>71.2%</td>\n",
       "    </tr>\n",
       "    <tr>\n",
       "      <th>Ciências sociais</th>\n",
       "      <td>16.0%</td>\n",
       "    </tr>\n",
       "    <tr>\n",
       "      <th>Matemática e ciências naturais</th>\n",
       "      <td>3.2%</td>\n",
       "    </tr>\n",
       "    <tr>\n",
       "      <th>Religião</th>\n",
       "      <td>3.0%</td>\n",
       "    </tr>\n",
       "    <tr>\n",
       "      <th>Generalidades. Ciência e conhecimento</th>\n",
       "      <td>2.9%</td>\n",
       "    </tr>\n",
       "    <tr>\n",
       "      <th>Filosofia e psicologia</th>\n",
       "      <td>2.8%</td>\n",
       "    </tr>\n",
       "    <tr>\n",
       "      <th>Geografia. Biografia. História</th>\n",
       "      <td>0.3%</td>\n",
       "    </tr>\n",
       "    <tr>\n",
       "      <th>Linguagem. Língua. Linguística</th>\n",
       "      <td>0.3%</td>\n",
       "    </tr>\n",
       "    <tr>\n",
       "      <th>Belas artes</th>\n",
       "      <td>0.3%</td>\n",
       "    </tr>\n",
       "  </tbody>\n",
       "</table>\n",
       "</div>"
      ],
      "text/plain": [
       "                                      classe_geral\n",
       "Ciências aplicadas                           71.2%\n",
       "Ciências sociais                             16.0%\n",
       "Matemática e ciências naturais                3.2%\n",
       "Religião                                      3.0%\n",
       "Generalidades. Ciência e conhecimento         2.9%\n",
       "Filosofia e psicologia                        2.8%\n",
       "Geografia. Biografia. História                0.3%\n",
       "Linguagem. Língua. Linguística                0.3%\n",
       "Belas artes                                   0.3%"
      ]
     },
     "execution_count": 40,
     "metadata": {},
     "output_type": "execute_result"
    }
   ],
   "source": [
    "divisao_percentual(\"classe_geral\", emprestimos_pos_graduacao)"
   ]
  },
  {
   "cell_type": "code",
   "execution_count": 41,
   "id": "dd216b86",
   "metadata": {},
   "outputs": [],
   "source": [
    "selecao = emprestimos_pos_graduacao['classe_geral'] == 'Ciências aplicadas'\n",
    "emprestimos_pos_graduacao = emprestimos_pos_graduacao[selecao]"
   ]
  },
  {
   "cell_type": "markdown",
   "id": "65ad4323",
   "metadata": {},
   "source": [
    "### Emprétimos de exemplares de Ciências aplicadas feitos a alunos da pós-graduação por ano"
   ]
  },
  {
   "cell_type": "code",
   "execution_count": 42,
   "id": "0110d923",
   "metadata": {},
   "outputs": [
    {
     "data": {
      "image/png": "[encoded data removed]",
      "text/plain": [
       "<Figure size 1200x400 with 1 Axes>"
      ]
     },
     "metadata": {},
     "output_type": "display_data"
    },
    {
     "data": {
      "image/png": "[encoded data removed]",
      "text/plain": [
       "<Figure size 1200x400 with 1 Axes>"
      ]
     },
     "metadata": {},
     "output_type": "display_data"
    },
    {
     "data": {
      "image/png": "[encoded data removed]",
      "text/plain": [
       "<Figure size 1200x400 with 1 Axes>"
      ]
     },
     "metadata": {},
     "output_type": "display_data"
    },
    {
     "data": {
      "image/png": "[encoded data removed]",
      "text/plain": [
       "<Figure size 1200x400 with 1 Axes>"
      ]
     },
     "metadata": {},
     "output_type": "display_data"
    },
    {
     "data": {
      "image/png": "[encoded data removed]",
      "text/plain": [
       "<Figure size 1200x400 with 1 Axes>"
      ]
     },
     "metadata": {},
     "output_type": "display_data"
    },
    {
     "data": {
      "image/png": "[encoded data removed]",
      "text/plain": [
       "<Figure size 1200x400 with 1 Axes>"
      ]
     },
     "metadata": {},
     "output_type": "display_data"
    },
    {
     "data": {
      "image/png": "[encoded data removed]",
      "text/plain": [
       "<Figure size 1200x400 with 1 Axes>"
      ]
     },
     "metadata": {},
     "output_type": "display_data"
    },
    {
     "data": {
      "image/png": "[encoded data removed]",
      "text/plain": [
       "<Figure size 1200x400 with 1 Axes>"
      ]
     },
     "metadata": {},
     "output_type": "display_data"
    },
    {
     "data": {
      "image/png": "[encoded data removed]",
      "text/plain": [
       "<Figure size 1200x400 with 1 Axes>"
      ]
     },
     "metadata": {},
     "output_type": "display_data"
    },
    {
     "data": {
      "image/png": "[encoded data removed]",
      "text/plain": [
       "<Figure size 1200x400 with 1 Axes>"
      ]
     },
     "metadata": {},
     "output_type": "display_data"
    },
    {
     "data": {
      "image/png": "[encoded data removed]",
      "text/plain": [
       "<Figure size 1200x400 with 1 Axes>"
      ]
     },
     "metadata": {},
     "output_type": "display_data"
    },
    {
     "data": {
      "text/plain": [
       "<Figure size 640x480 with 0 Axes>"
      ]
     },
     "metadata": {},
     "output_type": "display_data"
    }
   ],
   "source": [
    "ano = 2010 - 1\n",
    "for i in range(2010, 2020 + 1):\n",
    "    ano += 1\n",
    "    criar_boxplot_empretimos(emprestimos_pos_graduacao, i, ano)\n",
    "    plt.figure()"
   ]
  },
  {
   "cell_type": "markdown",
   "id": "c319a964",
   "metadata": {},
   "source": [
    "### Observação VII: Não diferença significativa em relação aos empréstimos, tirando o fato de que os empréstimos a graduação ocorrem em um maior volume. "
   ]
  },
  {
   "cell_type": "code",
   "execution_count": 43,
   "id": "16207c63",
   "metadata": {},
   "outputs": [],
   "source": [
    "matricula_1 = pd.read_excel('dados/matricula_alunos.xlsx', skiprows=1)\n",
    "matricula_1[\"Número da matrícula\"] = matricula_1[\"Número da matrícula\"].values.astype('str')"
   ]
  },
  {
   "cell_type": "code",
   "execution_count": 45,
   "id": "13f1ea87",
   "metadata": {},
   "outputs": [],
   "source": [
    "matricula_2 = pd.read_json('https://raw.githubusercontent.com/FranciscoFoz/7_Days_of_Code_Alura-Python-Pandas/main/Dia_6-Novos_dados_novas_analises/Datasets/cadastro_alunos.json?utm_source=ActiveCampaign&utm_medium=email&utm_content=%237DaysOfCode+-+Python+Pandas+6%2F7%3A+%F0%9F%91%A9%F0%9F%8F%BD%E2%80%8D%F0%9F%92%BB+JSON%2C+Excel+e+Pivot_table&utm_campaign=%5BAlura+%237Days+Of+Code%5D%28Python+Pandas+-+1%C2%AA+Ed+%29+6%2F7')\n",
    "matricula_2 = pd.read_json(matricula_2.registros[0])\n",
    "matricula_2[\"matricula_ou_siape\"] = matricula_2[\"matricula_ou_siape\"].astype('str') + '.0'\n",
    "matricula_2.rename(columns = {'matricula_ou_siape': 'Número da matrícula', 'tipo_vinculo_usuario': 'Tipo de vinculo', 'curso': 'Curso'}, inplace = True)"
   ]
  },
  {
   "cell_type": "code",
   "execution_count": 46,
   "id": "cffe074f",
   "metadata": {},
   "outputs": [
    {
     "name": "stderr",
     "output_type": "stream",
     "text": [
      "C:\\Users\\User\\AppData\\Local\\Temp\\ipykernel_16672\\2201369503.py:1: FutureWarning: The frame.append method is deprecated and will be removed from pandas in a future version. Use pandas.concat instead.\n",
      "  matriculas_completas = matricula_1.append(matricula_2)\n"
     ]
    }
   ],
   "source": [
    "matriculas_completas = matricula_1.append(matricula_2)"
   ]
  },
  {
   "cell_type": "code",
   "execution_count": 47,
   "id": "61b01b8f",
   "metadata": {},
   "outputs": [],
   "source": [
    "emprestimos_completo_unificado = emprestimos_completo.rename(columns = {'matricula_ou_siape': 'Número da matrícula'})"
   ]
  },
  {
   "cell_type": "code",
   "execution_count": 48,
   "id": "91dadb30",
   "metadata": {},
   "outputs": [],
   "source": [
    "matriculas_emprestimos = pd.merge(matriculas_completas, emprestimos_completo_unificado, on=\"Número da matrícula\")"
   ]
  },
  {
   "cell_type": "code",
   "execution_count": 49,
   "id": "e0141542",
   "metadata": {},
   "outputs": [],
   "source": [
    "selecao = matriculas_emprestimos['Curso'] == 'BIBLIOTECONOMIA'\n",
    "biblioteconomia = matriculas_emprestimos[selecao]\n",
    "selecao = matriculas_emprestimos['Curso'] == 'CIÊNCIAS SOCIAIS'\n",
    "ciencias_sociais = matriculas_emprestimos[selecao]\n",
    "selecao = matriculas_emprestimos['Curso'] == 'COMUNICAÇÃO SOCIAL'\n",
    "comunicacao_social = matriculas_emprestimos[selecao]\n",
    "selecao = matriculas_emprestimos['Curso'] == 'DIREITO'\n",
    "direito = matriculas_emprestimos[selecao]\n",
    "selecao = matriculas_emprestimos['Curso'] == 'FILOSOFIA'\n",
    "filosofia = matriculas_emprestimos[selecao]\n",
    "selecao = matriculas_emprestimos['Curso'] == 'PEDAGOGIA'\n",
    "pedagogia = matriculas_emprestimos[selecao]"
   ]
  },
  {
   "cell_type": "code",
   "execution_count": 50,
   "id": "4742ae06",
   "metadata": {},
   "outputs": [],
   "source": [
    "def empretimo_anual(data_frame, curso):\n",
    "    emprestimo_anual = [int(i[:4]) for i in data_frame.data_emprestimo]\n",
    "    contagem = Counter(emprestimo_anual)\n",
    "    emprestimo_anual = pd.DataFrame.from_dict(contagem, orient='index').reset_index()\n",
    "    emprestimo_anual = emprestimo_anual.sort_values('index')\n",
    "    emprestimo_anual = emprestimo_anual[5:]\n",
    "    emprestimo_anual = emprestimo_anual.reset_index()\n",
    "    emprestimo_anual = emprestimo_anual.drop('level_0', axis = 1)\n",
    "    emprestimo_anual.rename(columns = {'index': 'Ano', 0: curso}, inplace = True)\n",
    "    return emprestimo_anual"
   ]
  },
  {
   "cell_type": "code",
   "execution_count": 51,
   "id": "147d2380",
   "metadata": {},
   "outputs": [],
   "source": [
    "biblioteconomia_emprestimos = empretimo_anual(biblioteconomia, 'Biblioteconomia')\n",
    "ciencias_sociais_emprestimos =  empretimo_anual(ciencias_sociais, 'Ciências Sociais')\n",
    "comunicacao_social_emprestimos = empretimo_anual(comunicacao_social, 'Comunicação Social')\n",
    "direito_emprestimos = empretimo_anual(direito, 'Direito')\n",
    "filosofia_emprestimos = empretimo_anual(filosofia, 'Filosofia')\n",
    "pedagogia_emprestimos = empretimo_anual(pedagogia, 'Pedagogia')"
   ]
  },
  {
   "cell_type": "code",
   "execution_count": 52,
   "id": "ae9a9341",
   "metadata": {},
   "outputs": [],
   "source": [
    "emprestimos_curso_2015_a_2020 = pd.merge(pd.merge(pd.merge(pd.merge(pd.merge(biblioteconomia_emprestimos, ciencias_sociais_emprestimos, on='Ano'), \n",
    "                                                           comunicacao_social_emprestimos, on='Ano'), \n",
    "                                                           direito_emprestimos,  on='Ano'), \n",
    "                                                           filosofia_emprestimos, on='Ano'), pedagogia_emprestimos, on='Ano'\n",
    "                                                           )"
   ]
  },
  {
   "cell_type": "markdown",
   "id": "61c0c016",
   "metadata": {},
   "source": [
    "### Tabela com emprétimos anuais para cursos de graduação "
   ]
  },
  {
   "cell_type": "code",
   "execution_count": 53,
   "id": "603a971b",
   "metadata": {},
   "outputs": [
    {
     "data": {
      "text/html": [
       "<div>\n",
       "<style scoped>\n",
       "    .dataframe tbody tr th:only-of-type {\n",
       "        vertical-align: middle;\n",
       "    }\n",
       "\n",
       "    .dataframe tbody tr th {\n",
       "        vertical-align: top;\n",
       "    }\n",
       "\n",
       "    .dataframe thead th {\n",
       "        text-align: right;\n",
       "    }\n",
       "</style>\n",
       "<table border=\"1\" class=\"dataframe\">\n",
       "  <thead>\n",
       "    <tr style=\"text-align: right;\">\n",
       "      <th></th>\n",
       "      <th>Ano</th>\n",
       "      <th>Biblioteconomia</th>\n",
       "      <th>Ciências Sociais</th>\n",
       "      <th>Comunicação Social</th>\n",
       "      <th>Direito</th>\n",
       "      <th>Filosofia</th>\n",
       "      <th>Pedagogia</th>\n",
       "    </tr>\n",
       "  </thead>\n",
       "  <tbody>\n",
       "    <tr>\n",
       "      <th>0</th>\n",
       "      <td>2015</td>\n",
       "      <td>7624</td>\n",
       "      <td>7357</td>\n",
       "      <td>7031</td>\n",
       "      <td>7520</td>\n",
       "      <td>6950</td>\n",
       "      <td>7189</td>\n",
       "    </tr>\n",
       "    <tr>\n",
       "      <th>1</th>\n",
       "      <td>2016</td>\n",
       "      <td>6997</td>\n",
       "      <td>6959</td>\n",
       "      <td>7954</td>\n",
       "      <td>7326</td>\n",
       "      <td>7576</td>\n",
       "      <td>7153</td>\n",
       "    </tr>\n",
       "    <tr>\n",
       "      <th>2</th>\n",
       "      <td>2017</td>\n",
       "      <td>7288</td>\n",
       "      <td>6908</td>\n",
       "      <td>8241</td>\n",
       "      <td>7867</td>\n",
       "      <td>7389</td>\n",
       "      <td>7434</td>\n",
       "    </tr>\n",
       "    <tr>\n",
       "      <th>3</th>\n",
       "      <td>2018</td>\n",
       "      <td>6377</td>\n",
       "      <td>6181</td>\n",
       "      <td>6950</td>\n",
       "      <td>7022</td>\n",
       "      <td>6296</td>\n",
       "      <td>6518</td>\n",
       "    </tr>\n",
       "    <tr>\n",
       "      <th>4</th>\n",
       "      <td>2019</td>\n",
       "      <td>5887</td>\n",
       "      <td>5788</td>\n",
       "      <td>5885</td>\n",
       "      <td>5860</td>\n",
       "      <td>5572</td>\n",
       "      <td>5869</td>\n",
       "    </tr>\n",
       "    <tr>\n",
       "      <th>5</th>\n",
       "      <td>2020</td>\n",
       "      <td>900</td>\n",
       "      <td>825</td>\n",
       "      <td>796</td>\n",
       "      <td>905</td>\n",
       "      <td>832</td>\n",
       "      <td>866</td>\n",
       "    </tr>\n",
       "  </tbody>\n",
       "</table>\n",
       "</div>"
      ],
      "text/plain": [
       "    Ano  Biblioteconomia  Ciências Sociais  Comunicação Social  Direito  \\\n",
       "0  2015             7624              7357                7031     7520   \n",
       "1  2016             6997              6959                7954     7326   \n",
       "2  2017             7288              6908                8241     7867   \n",
       "3  2018             6377              6181                6950     7022   \n",
       "4  2019             5887              5788                5885     5860   \n",
       "5  2020              900               825                 796      905   \n",
       "\n",
       "   Filosofia  Pedagogia  \n",
       "0       6950       7189  \n",
       "1       7576       7153  \n",
       "2       7389       7434  \n",
       "3       6296       6518  \n",
       "4       5572       5869  \n",
       "5        832        866  "
      ]
     },
     "execution_count": 53,
     "metadata": {},
     "output_type": "execute_result"
    }
   ],
   "source": [
    "emprestimos_curso_2015_a_2020"
   ]
  },
  {
   "cell_type": "code",
   "execution_count": 54,
   "id": "00938925",
   "metadata": {},
   "outputs": [
    {
     "name": "stderr",
     "output_type": "stream",
     "text": [
      "C:\\Users\\User\\AppData\\Local\\Temp\\ipykernel_16672\\3092425093.py:3: SettingWithCopyWarning: \n",
      "A value is trying to be set on a copy of a slice from a DataFrame\n",
      "\n",
      "See the caveats in the documentation: https://pandas.pydata.org/pandas-docs/stable/user_guide/indexing.html#returning-a-view-versus-a-copy\n",
      "  previsao_2022['Número de emprétimos'][13] = int(previsao_2022['Unnamed: 1'][13])\n"
     ]
    }
   ],
   "source": [
    "previsao_2022 = pd.read_fwf('dados/previsao.txt')\n",
    "previsao_2022[['Curso', 'Número de emprétimos']] = previsao_2022['curso previsao_2022'].str.split(' ', expand=True)\n",
    "previsao_2022['Número de emprétimos'][13] = int(previsao_2022['Unnamed: 1'][13])\n",
    "previsao_2022[\"Número de emprétimos\"] = previsao_2022[\"Número de emprétimos\"].values.astype('int')\n",
    "previsao_2022.drop(['curso previsao_2022', 'Unnamed: 1'], axis=1, inplace=True)"
   ]
  },
  {
   "cell_type": "code",
   "execution_count": 55,
   "id": "bc63757c",
   "metadata": {},
   "outputs": [],
   "source": [
    "matricula_pos = pd.read_json('https://raw.githubusercontent.com/FranciscoFoz/7_Days_of_Code_Alura-Python-Pandas/main/Dia_6-Novos_dados_novas_analises/Datasets/cadastro_alunos.json?utm_source=ActiveCampaign&utm_medium=email&utm_content=%237DaysOfCode+-+Python+Pandas+6%2F7%3A+%F0%9F%91%A9%F0%9F%8F%BD%E2%80%8D%F0%9F%92%BB+JSON%2C+Excel+e+Pivot_table&utm_campaign=%5BAlura+%237Days+Of+Code%5D%28Python+Pandas+-+1%C2%AA+Ed+%29+6%2F7')\n",
    "matricula_pos = pd.read_json(matricula_pos.registros[1])\n",
    "matricula_pos[\"matricula_ou_siape\"] = matricula_pos[\"matricula_ou_siape\"].astype('str') + '.0'\n",
    "matricula_pos.rename(columns = {'matricula_ou_siape': 'Número da matrícula', 'tipo_vinculo_usuario': 'Tipo de vinculo', 'curso': 'Curso'}, inplace = True)"
   ]
  },
  {
   "cell_type": "code",
   "execution_count": 56,
   "id": "983e39e1",
   "metadata": {},
   "outputs": [],
   "source": [
    "emprestimos_pos = emprestimos_pos_graduacao.rename(columns = {'matricula_ou_siape': 'Número da matrícula'})"
   ]
  },
  {
   "cell_type": "code",
   "execution_count": 57,
   "id": "da6c1f2a",
   "metadata": {},
   "outputs": [],
   "source": [
    "matriculas_emprestimos_pos = pd.merge(matricula_pos, emprestimos_pos, on=\"Número da matrícula\")"
   ]
  },
  {
   "cell_type": "code",
   "execution_count": 58,
   "id": "aa566819",
   "metadata": {},
   "outputs": [
    {
     "data": {
      "text/plain": [
       "array(['CIÊNCIAS ODONTOLÓGICAS', 'ENGENHARIA DE SOFTWARE',\n",
       "       'ARQUITETURA E URBANISMO', 'FILOSOFIA', 'ARTES CÊNICAS',\n",
       "       'CIÊNCIA, TECNOLOGIA E INOVAÇÃO',\n",
       "       'GESTÃO DA INFORMAÇÃO E DO CONHECIMENTO', 'BIOQUÍMICA',\n",
       "       'ADMINISTRAÇÃO', 'BIOINFORMÁTICA', 'DESIGN',\n",
       "       'CIÊNCIA E ENGENHARIA DE MATERIAIS', 'ENGENHARIA CIVIL',\n",
       "       'CIÊNCIAS DA SAÚDE'], dtype=object)"
      ]
     },
     "execution_count": 58,
     "metadata": {},
     "output_type": "execute_result"
    }
   ],
   "source": [
    "matriculas_emprestimos_pos.Curso.unique()"
   ]
  },
  {
   "cell_type": "code",
   "execution_count": 59,
   "id": "20125047",
   "metadata": {},
   "outputs": [],
   "source": [
    "selecao = matriculas_emprestimos_pos['Curso'] == 'CIÊNCIAS ODONTOLÓGICAS'\n",
    "ciencias_odontologicas = matriculas_emprestimos_pos[selecao]\n",
    "selecao = matriculas_emprestimos_pos['Curso'] == 'ENGENHARIA DE SOFTWARE'\n",
    "engenharia_software = matriculas_emprestimos_pos[selecao]\n",
    "selecao = matriculas_emprestimos_pos['Curso'] == 'ARQUITETURA E URBANISMO'\n",
    "arquitetura_e_urbanismo = matriculas_emprestimos_pos[selecao]\n",
    "selecao = matriculas_emprestimos_pos['Curso'] == 'FILOSOFIA'\n",
    "filosofia = matriculas_emprestimos_pos[selecao]\n",
    "selecao = matriculas_emprestimos_pos['Curso'] == 'ARTES CÊNICAS'\n",
    "artes_cenicas = matriculas_emprestimos_pos[selecao]\n",
    "selecao = matriculas_emprestimos_pos['Curso'] == 'GESTÃO DA INFORMAÇÃO E DO CONHECIMENTO'\n",
    "gestao_da_informacao_e_do_conhecimento = matriculas_emprestimos_pos[selecao]\n",
    "selecao = matriculas_emprestimos_pos['Curso'] == 'BIOQUÍMICA'\n",
    "bioquimica = matriculas_emprestimos_pos[selecao]\n",
    "selecao = matriculas_emprestimos_pos['Curso'] == 'ADMINISTRAÇÃO'\n",
    "administracao = matriculas_emprestimos_pos[selecao]\n",
    "selecao = matriculas_emprestimos_pos['Curso'] == 'BIOINFORMÁTICA'\n",
    "bioinformatica = matriculas_emprestimos_pos[selecao]\n",
    "selecao = matriculas_emprestimos_pos['Curso'] == 'DESIGN'\n",
    "design = matriculas_emprestimos_pos[selecao]\n",
    "selecao = matriculas_emprestimos_pos['Curso'] == 'CIÊNCIA E ENGENHARIA DE MATERIAIS'\n",
    "ciencia_e_engenharia_de_materiais = matriculas_emprestimos_pos[selecao]\n",
    "selecao = matriculas_emprestimos_pos['Curso'] == 'ENGENHARIA CIVIL'\n",
    "engenharia_civil = matriculas_emprestimos_pos[selecao]\n",
    "selecao = matriculas_emprestimos_pos['Curso'] == 'CIÊNCIAS DA SAÚDE'\n",
    "ciencias_da_saude = matriculas_emprestimos_pos[selecao]\n",
    "selecao = matriculas_emprestimos_pos['Curso'] == 'CIÊNCIA, TECNOLOGIA E INOVAÇÃO'\n",
    "ciencia_tecnologia_e_inovacao = matriculas_emprestimos_pos[selecao]"
   ]
  },
  {
   "cell_type": "code",
   "execution_count": 60,
   "id": "59b0798e",
   "metadata": {},
   "outputs": [],
   "source": [
    "def criando_tabela(DataFrame, nome_curso, titulo):\n",
    "    lista = [int(i[:4]) for i in DataFrame.data_emprestimo]\n",
    "    contagem = Counter(lista)\n",
    "    emprestimo_anual = pd.DataFrame.from_dict(contagem, orient='index').reset_index()\n",
    "    emprestimo_anual = emprestimo_anual.sort_values('index')\n",
    "    emprestimo_anual = emprestimo_anual[7:]\n",
    "    emprestimo_anual = emprestimo_anual[:-1]\n",
    "    for i in previsao_2022.Curso:\n",
    "        if i == nome_curso:\n",
    "            emprestimo_anual = emprestimo_anual.append({'index': 2022, 0: previsao_2022['Número de emprétimos'][[previsao_2022[previsao_2022['Curso'] == nome_curso].index[0]][0]]}, ignore_index=True)\n",
    "            emprestimo_anual.rename(columns = {'index': 'Ano', 0: 'valor total'}, inplace = True)\n",
    "    emprestimo_anual['aumento'] = emprestimo_anual['valor total'].pct_change()\n",
    "    emprestimo_anual = emprestimo_anual.set_index('Ano')\n",
    "    emprestimo_anual[titulo] = emprestimo_anual['aumento'].map(lambda x: '{:.2f}%'.format(x * 100))\n",
    "    emprestimo_anual = emprestimo_anual.drop(['aumento', 'valor total'], axis = 1)\n",
    "    multi_index = pd.MultiIndex.from_product([['Mudança em %'], emprestimo_anual.columns])\n",
    "    emprestimo_anual.columns = multi_index\n",
    "    return emprestimo_anual"
   ]
  },
  {
   "cell_type": "code",
   "execution_count": 61,
   "id": "b21f2ab3",
   "metadata": {},
   "outputs": [
    {
     "name": "stderr",
     "output_type": "stream",
     "text": [
      "C:\\Users\\User\\AppData\\Local\\Temp\\ipykernel_16672\\3749704220.py:10: FutureWarning: The frame.append method is deprecated and will be removed from pandas in a future version. Use pandas.concat instead.\n",
      "  emprestimo_anual = emprestimo_anual.append({'index': 2022, 0: previsao_2022['Número de emprétimos'][[previsao_2022[previsao_2022['Curso'] == nome_curso].index[0]][0]]}, ignore_index=True)\n",
      "C:\\Users\\User\\AppData\\Local\\Temp\\ipykernel_16672\\3749704220.py:10: FutureWarning: The frame.append method is deprecated and will be removed from pandas in a future version. Use pandas.concat instead.\n",
      "  emprestimo_anual = emprestimo_anual.append({'index': 2022, 0: previsao_2022['Número de emprétimos'][[previsao_2022[previsao_2022['Curso'] == nome_curso].index[0]][0]]}, ignore_index=True)\n",
      "C:\\Users\\User\\AppData\\Local\\Temp\\ipykernel_16672\\3749704220.py:10: FutureWarning: The frame.append method is deprecated and will be removed from pandas in a future version. Use pandas.concat instead.\n",
      "  emprestimo_anual = emprestimo_anual.append({'index': 2022, 0: previsao_2022['Número de emprétimos'][[previsao_2022[previsao_2022['Curso'] == nome_curso].index[0]][0]]}, ignore_index=True)\n",
      "C:\\Users\\User\\AppData\\Local\\Temp\\ipykernel_16672\\3749704220.py:10: FutureWarning: The frame.append method is deprecated and will be removed from pandas in a future version. Use pandas.concat instead.\n",
      "  emprestimo_anual = emprestimo_anual.append({'index': 2022, 0: previsao_2022['Número de emprétimos'][[previsao_2022[previsao_2022['Curso'] == nome_curso].index[0]][0]]}, ignore_index=True)\n",
      "C:\\Users\\User\\AppData\\Local\\Temp\\ipykernel_16672\\3749704220.py:10: FutureWarning: The frame.append method is deprecated and will be removed from pandas in a future version. Use pandas.concat instead.\n",
      "  emprestimo_anual = emprestimo_anual.append({'index': 2022, 0: previsao_2022['Número de emprétimos'][[previsao_2022[previsao_2022['Curso'] == nome_curso].index[0]][0]]}, ignore_index=True)\n",
      "C:\\Users\\User\\AppData\\Local\\Temp\\ipykernel_16672\\3749704220.py:10: FutureWarning: The frame.append method is deprecated and will be removed from pandas in a future version. Use pandas.concat instead.\n",
      "  emprestimo_anual = emprestimo_anual.append({'index': 2022, 0: previsao_2022['Número de emprétimos'][[previsao_2022[previsao_2022['Curso'] == nome_curso].index[0]][0]]}, ignore_index=True)\n",
      "C:\\Users\\User\\AppData\\Local\\Temp\\ipykernel_16672\\3749704220.py:10: FutureWarning: The frame.append method is deprecated and will be removed from pandas in a future version. Use pandas.concat instead.\n",
      "  emprestimo_anual = emprestimo_anual.append({'index': 2022, 0: previsao_2022['Número de emprétimos'][[previsao_2022[previsao_2022['Curso'] == nome_curso].index[0]][0]]}, ignore_index=True)\n",
      "C:\\Users\\User\\AppData\\Local\\Temp\\ipykernel_16672\\3749704220.py:10: FutureWarning: The frame.append method is deprecated and will be removed from pandas in a future version. Use pandas.concat instead.\n",
      "  emprestimo_anual = emprestimo_anual.append({'index': 2022, 0: previsao_2022['Número de emprétimos'][[previsao_2022[previsao_2022['Curso'] == nome_curso].index[0]][0]]}, ignore_index=True)\n",
      "C:\\Users\\User\\AppData\\Local\\Temp\\ipykernel_16672\\3749704220.py:10: FutureWarning: The frame.append method is deprecated and will be removed from pandas in a future version. Use pandas.concat instead.\n",
      "  emprestimo_anual = emprestimo_anual.append({'index': 2022, 0: previsao_2022['Número de emprétimos'][[previsao_2022[previsao_2022['Curso'] == nome_curso].index[0]][0]]}, ignore_index=True)\n",
      "C:\\Users\\User\\AppData\\Local\\Temp\\ipykernel_16672\\3749704220.py:10: FutureWarning: The frame.append method is deprecated and will be removed from pandas in a future version. Use pandas.concat instead.\n",
      "  emprestimo_anual = emprestimo_anual.append({'index': 2022, 0: previsao_2022['Número de emprétimos'][[previsao_2022[previsao_2022['Curso'] == nome_curso].index[0]][0]]}, ignore_index=True)\n",
      "C:\\Users\\User\\AppData\\Local\\Temp\\ipykernel_16672\\3749704220.py:10: FutureWarning: The frame.append method is deprecated and will be removed from pandas in a future version. Use pandas.concat instead.\n",
      "  emprestimo_anual = emprestimo_anual.append({'index': 2022, 0: previsao_2022['Número de emprétimos'][[previsao_2022[previsao_2022['Curso'] == nome_curso].index[0]][0]]}, ignore_index=True)\n",
      "C:\\Users\\User\\AppData\\Local\\Temp\\ipykernel_16672\\3749704220.py:10: FutureWarning: The frame.append method is deprecated and will be removed from pandas in a future version. Use pandas.concat instead.\n",
      "  emprestimo_anual = emprestimo_anual.append({'index': 2022, 0: previsao_2022['Número de emprétimos'][[previsao_2022[previsao_2022['Curso'] == nome_curso].index[0]][0]]}, ignore_index=True)\n",
      "C:\\Users\\User\\AppData\\Local\\Temp\\ipykernel_16672\\3749704220.py:10: FutureWarning: The frame.append method is deprecated and will be removed from pandas in a future version. Use pandas.concat instead.\n",
      "  emprestimo_anual = emprestimo_anual.append({'index': 2022, 0: previsao_2022['Número de emprétimos'][[previsao_2022[previsao_2022['Curso'] == nome_curso].index[0]][0]]}, ignore_index=True)\n",
      "C:\\Users\\User\\AppData\\Local\\Temp\\ipykernel_16672\\3749704220.py:10: FutureWarning: The frame.append method is deprecated and will be removed from pandas in a future version. Use pandas.concat instead.\n",
      "  emprestimo_anual = emprestimo_anual.append({'index': 2022, 0: previsao_2022['Número de emprétimos'][[previsao_2022[previsao_2022['Curso'] == nome_curso].index[0]][0]]}, ignore_index=True)\n"
     ]
    }
   ],
   "source": [
    "ciencias_odontologicas = criando_tabela(ciencias_odontologicas, 'ciencias_odontologicas', 'CIÊNCIAS ODONTOLÓGICAS')\n",
    "engenharia_software = criando_tabela(engenharia_software, 'engenharia_software', 'ENGENHARIA DE SOFTWARE')\n",
    "arquitetura_e_urbanismo = criando_tabela(arquitetura_e_urbanismo, 'arquitetura_e_urbanismo', 'ARQUITETURA E URBANISMO')\n",
    "filosofia = criando_tabela(filosofia, 'filosofia', 'FILOSOFIA')\n",
    "artes_cenicas = criando_tabela(artes_cenicas, 'artes_cenicas', 'ARTES CÊNICAS')\n",
    "gestao_da_informacao_e_do_conhecimento = criando_tabela(gestao_da_informacao_e_do_conhecimento, 'gestao_da_informacao_e_do_conhecimento', 'GESTÃO DA INFORMAÇÃO E DO CONHECIMENTO')\n",
    "bioquimica = criando_tabela(bioquimica, 'bioquimica', 'BIOQUÍMICA')\n",
    "administracao = criando_tabela(administracao, 'administracao', 'ADMINISTRAÇÃO')\n",
    "bioinformatica = criando_tabela(bioinformatica, 'bioinformatica', 'BIOINFORMÁTICA')\n",
    "design = criando_tabela(design, 'design', 'DESIGN')\n",
    "ciencia_e_engenharia_de_materiais = criando_tabela(ciencia_e_engenharia_de_materiais, 'ciencia_e_engenharia_de_materiais', 'CIÊNCIA E ENGENHARIA DE MATERIAIS')\n",
    "engenharia_civil = criando_tabela(engenharia_civil, 'engenharia_civil', 'ENGENHARIA CIVIL')\n",
    "ciencias_da_saude = criando_tabela(ciencias_da_saude, 'ciencias_da_saude', 'CIÊNCIAS DA SAÚDE')\n",
    "ciencia_tecnologia_e_inovacao = criando_tabela(ciencia_tecnologia_e_inovacao, 'ciencia_tecnologia_e_inovacao', 'CIÊNCIA, TECNOLOGIA E INOVAÇÃO')"
   ]
  },
  {
   "cell_type": "code",
   "execution_count": 62,
   "id": "e4c9a86f",
   "metadata": {},
   "outputs": [],
   "source": [
    "imprestimos_2017_a_2022 = pd.merge(pd.merge(pd.merge(pd.merge(pd.merge(pd.merge(pd.merge(pd.merge(pd.merge(pd.merge(pd.merge(pd.merge(pd.merge(ciencias_odontologicas, engenharia_software, on='Ano'), \n",
    "                                                           arquitetura_e_urbanismo, on='Ano'), \n",
    "                                                           filosofia,  on='Ano'), \n",
    "                                                           artes_cenicas, on='Ano'), \n",
    "                                    gestao_da_informacao_e_do_conhecimento, on='Ano'),\n",
    "                                                                   bioquimica, on='Ano'),\n",
    "                                                                   administracao, on='Ano'),\n",
    "                                                                   bioinformatica, on='Ano'),\n",
    "                                                                               design, on='Ano'),\n",
    "                                                                   ciencia_e_engenharia_de_materiais, on='Ano'),\n",
    "                                                                                       engenharia_civil, on='Ano'),\n",
    "                                                                                         ciencias_da_saude, on='Ano'),ciencia_tecnologia_e_inovacao, on='Ano')"
   ]
  },
  {
   "cell_type": "markdown",
   "id": "33160d6e",
   "metadata": {},
   "source": [
    "### Tabela com mudança percentutal nos empréstimos na pós-graduação (2017 a 2022)"
   ]
  },
  {
   "cell_type": "code",
   "execution_count": 63,
   "id": "2a93c70a",
   "metadata": {},
   "outputs": [
    {
     "data": {
      "text/html": [
       "<div>\n",
       "<style scoped>\n",
       "    .dataframe tbody tr th:only-of-type {\n",
       "        vertical-align: middle;\n",
       "    }\n",
       "\n",
       "    .dataframe tbody tr th {\n",
       "        vertical-align: top;\n",
       "    }\n",
       "\n",
       "    .dataframe thead th {\n",
       "        text-align: right;\n",
       "    }\n",
       "</style>\n",
       "<table border=\"1\" class=\"dataframe\">\n",
       "  <thead>\n",
       "    <tr style=\"text-align: right;\">\n",
       "      <th></th>\n",
       "      <th>Ano</th>\n",
       "      <th>2017</th>\n",
       "      <th>2018</th>\n",
       "      <th>2019</th>\n",
       "      <th>2022</th>\n",
       "    </tr>\n",
       "  </thead>\n",
       "  <tbody>\n",
       "    <tr>\n",
       "      <th rowspan=\"14\" valign=\"top\">Mudança em %</th>\n",
       "      <th>CIÊNCIAS ODONTOLÓGICAS</th>\n",
       "      <td>nan%</td>\n",
       "      <td>-5.21%</td>\n",
       "      <td>-14.69%</td>\n",
       "      <td>118.04%</td>\n",
       "    </tr>\n",
       "    <tr>\n",
       "      <th>ENGENHARIA DE SOFTWARE</th>\n",
       "      <td>nan%</td>\n",
       "      <td>-12.83%</td>\n",
       "      <td>-17.95%</td>\n",
       "      <td>90.52%</td>\n",
       "    </tr>\n",
       "    <tr>\n",
       "      <th>ARQUITETURA E URBANISMO</th>\n",
       "      <td>nan%</td>\n",
       "      <td>-17.07%</td>\n",
       "      <td>-2.33%</td>\n",
       "      <td>88.47%</td>\n",
       "    </tr>\n",
       "    <tr>\n",
       "      <th>FILOSOFIA</th>\n",
       "      <td>nan%</td>\n",
       "      <td>-5.75%</td>\n",
       "      <td>-10.08%</td>\n",
       "      <td>87.12%</td>\n",
       "    </tr>\n",
       "    <tr>\n",
       "      <th>ARTES CÊNICAS</th>\n",
       "      <td>nan%</td>\n",
       "      <td>-7.14%</td>\n",
       "      <td>-13.65%</td>\n",
       "      <td>101.05%</td>\n",
       "    </tr>\n",
       "    <tr>\n",
       "      <th>GESTÃO DA INFORMAÇÃO E DO CONHECIMENTO</th>\n",
       "      <td>nan%</td>\n",
       "      <td>-19.37%</td>\n",
       "      <td>-11.87%</td>\n",
       "      <td>104.75%</td>\n",
       "    </tr>\n",
       "    <tr>\n",
       "      <th>BIOQUÍMICA</th>\n",
       "      <td>nan%</td>\n",
       "      <td>-17.46%</td>\n",
       "      <td>-1.91%</td>\n",
       "      <td>103.90%</td>\n",
       "    </tr>\n",
       "    <tr>\n",
       "      <th>ADMINISTRAÇÃO</th>\n",
       "      <td>nan%</td>\n",
       "      <td>-14.04%</td>\n",
       "      <td>-30.30%</td>\n",
       "      <td>114.53%</td>\n",
       "    </tr>\n",
       "    <tr>\n",
       "      <th>BIOINFORMÁTICA</th>\n",
       "      <td>nan%</td>\n",
       "      <td>-18.25%</td>\n",
       "      <td>-8.56%</td>\n",
       "      <td>156.63%</td>\n",
       "    </tr>\n",
       "    <tr>\n",
       "      <th>DESIGN</th>\n",
       "      <td>nan%</td>\n",
       "      <td>-15.28%</td>\n",
       "      <td>-5.75%</td>\n",
       "      <td>99.79%</td>\n",
       "    </tr>\n",
       "    <tr>\n",
       "      <th>CIÊNCIA E ENGENHARIA DE MATERIAIS</th>\n",
       "      <td>nan%</td>\n",
       "      <td>-12.35%</td>\n",
       "      <td>-7.74%</td>\n",
       "      <td>89.44%</td>\n",
       "    </tr>\n",
       "    <tr>\n",
       "      <th>ENGENHARIA CIVIL</th>\n",
       "      <td>nan%</td>\n",
       "      <td>-14.21%</td>\n",
       "      <td>-8.81%</td>\n",
       "      <td>83.56%</td>\n",
       "    </tr>\n",
       "    <tr>\n",
       "      <th>CIÊNCIAS DA SAÚDE</th>\n",
       "      <td>nan%</td>\n",
       "      <td>-17.35%</td>\n",
       "      <td>-7.73%</td>\n",
       "      <td>78.90%</td>\n",
       "    </tr>\n",
       "    <tr>\n",
       "      <th>CIÊNCIA, TECNOLOGIA E INOVAÇÃO</th>\n",
       "      <td>nan%</td>\n",
       "      <td>-11.93%</td>\n",
       "      <td>-17.55%</td>\n",
       "      <td>90.48%</td>\n",
       "    </tr>\n",
       "  </tbody>\n",
       "</table>\n",
       "</div>"
      ],
      "text/plain": [
       "Ano                                                  2017     2018     2019  \\\n",
       "Mudança em % CIÊNCIAS ODONTOLÓGICAS                  nan%   -5.21%  -14.69%   \n",
       "             ENGENHARIA DE SOFTWARE                  nan%  -12.83%  -17.95%   \n",
       "             ARQUITETURA E URBANISMO                 nan%  -17.07%   -2.33%   \n",
       "             FILOSOFIA                               nan%   -5.75%  -10.08%   \n",
       "             ARTES CÊNICAS                           nan%   -7.14%  -13.65%   \n",
       "             GESTÃO DA INFORMAÇÃO E DO CONHECIMENTO  nan%  -19.37%  -11.87%   \n",
       "             BIOQUÍMICA                              nan%  -17.46%   -1.91%   \n",
       "             ADMINISTRAÇÃO                           nan%  -14.04%  -30.30%   \n",
       "             BIOINFORMÁTICA                          nan%  -18.25%   -8.56%   \n",
       "             DESIGN                                  nan%  -15.28%   -5.75%   \n",
       "             CIÊNCIA E ENGENHARIA DE MATERIAIS       nan%  -12.35%   -7.74%   \n",
       "             ENGENHARIA CIVIL                        nan%  -14.21%   -8.81%   \n",
       "             CIÊNCIAS DA SAÚDE                       nan%  -17.35%   -7.73%   \n",
       "             CIÊNCIA, TECNOLOGIA E INOVAÇÃO          nan%  -11.93%  -17.55%   \n",
       "\n",
       "Ano                                                     2022  \n",
       "Mudança em % CIÊNCIAS ODONTOLÓGICAS                  118.04%  \n",
       "             ENGENHARIA DE SOFTWARE                   90.52%  \n",
       "             ARQUITETURA E URBANISMO                  88.47%  \n",
       "             FILOSOFIA                                87.12%  \n",
       "             ARTES CÊNICAS                           101.05%  \n",
       "             GESTÃO DA INFORMAÇÃO E DO CONHECIMENTO  104.75%  \n",
       "             BIOQUÍMICA                              103.90%  \n",
       "             ADMINISTRAÇÃO                           114.53%  \n",
       "             BIOINFORMÁTICA                          156.63%  \n",
       "             DESIGN                                   99.79%  \n",
       "             CIÊNCIA E ENGENHARIA DE MATERIAIS        89.44%  \n",
       "             ENGENHARIA CIVIL                         83.56%  \n",
       "             CIÊNCIAS DA SAÚDE                        78.90%  \n",
       "             CIÊNCIA, TECNOLOGIA E INOVAÇÃO           90.48%  "
      ]
     },
     "execution_count": 63,
     "metadata": {},
     "output_type": "execute_result"
    }
   ],
   "source": [
    "imprestimos_2017_a_2022 = imprestimos_2017_a_2022.transpose()\n",
    "imprestimos_2017_a_2022"
   ]
  },
  {
   "cell_type": "code",
   "execution_count": null,
   "id": "fe376021",
   "metadata": {},
   "outputs": [],
   "source": []
  }
 ],
 "metadata": {
  "kernelspec": {
   "display_name": "Python 3 (ipykernel)",
   "language": "python",
   "name": "python3"
  },
  "language_info": {
   "codemirror_mode": {
    "name": "ipython",
    "version": 3
   },
   "file_extension": ".py",
   "mimetype": "text/x-python",
   "name": "python",
   "nbconvert_exporter": "python",
   "pygments_lexer": "ipython3",
   "version": "3.9.13"
  }
 },
 "nbformat": 4,
 "nbformat_minor": 5
}
